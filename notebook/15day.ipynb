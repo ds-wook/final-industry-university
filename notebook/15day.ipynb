{
 "cells": [
  {
   "cell_type": "code",
   "execution_count": 1,
   "id": "f0ac80c5",
   "metadata": {},
   "outputs": [],
   "source": [
    "import numpy as np\n",
    "import pandas as pd\n",
    "import matplotlib.pyplot as plt\n",
    "import seaborn as sns\n",
    "import optuna\n",
    "from optuna import Trial\n",
    "from fbprophet import Prophet\n",
    "from sklearn.metrics import mean_squared_error\n",
    "import warnings\n",
    "warnings.filterwarnings(\"ignore\")"
   ]
  },
  {
   "cell_type": "code",
   "execution_count": 2,
   "id": "f6cdded8",
   "metadata": {},
   "outputs": [
    {
     "name": "stdout",
     "output_type": "stream",
     "text": [
      "(648000, 2)\n"
     ]
    },
    {
     "data": {
      "text/html": [
       "<div>\n",
       "<style scoped>\n",
       "    .dataframe tbody tr th:only-of-type {\n",
       "        vertical-align: middle;\n",
       "    }\n",
       "\n",
       "    .dataframe tbody tr th {\n",
       "        vertical-align: top;\n",
       "    }\n",
       "\n",
       "    .dataframe thead th {\n",
       "        text-align: right;\n",
       "    }\n",
       "</style>\n",
       "<table border=\"1\" class=\"dataframe\">\n",
       "  <thead>\n",
       "    <tr style=\"text-align: right;\">\n",
       "      <th></th>\n",
       "      <th>ds</th>\n",
       "      <th>y</th>\n",
       "    </tr>\n",
       "  </thead>\n",
       "  <tbody>\n",
       "    <tr>\n",
       "      <th>0</th>\n",
       "      <td>2021-02-01 19:00:00</td>\n",
       "      <td>12.0</td>\n",
       "    </tr>\n",
       "    <tr>\n",
       "      <th>1</th>\n",
       "      <td>2021-02-01 19:00:02</td>\n",
       "      <td>7.0</td>\n",
       "    </tr>\n",
       "    <tr>\n",
       "      <th>2</th>\n",
       "      <td>2021-02-01 19:00:04</td>\n",
       "      <td>1.0</td>\n",
       "    </tr>\n",
       "    <tr>\n",
       "      <th>3</th>\n",
       "      <td>2021-02-01 19:00:06</td>\n",
       "      <td>16.0</td>\n",
       "    </tr>\n",
       "    <tr>\n",
       "      <th>4</th>\n",
       "      <td>2021-02-01 19:00:08</td>\n",
       "      <td>19.0</td>\n",
       "    </tr>\n",
       "  </tbody>\n",
       "</table>\n",
       "</div>"
      ],
      "text/plain": [
       "                   ds     y\n",
       "0 2021-02-01 19:00:00  12.0\n",
       "1 2021-02-01 19:00:02   7.0\n",
       "2 2021-02-01 19:00:04   1.0\n",
       "3 2021-02-01 19:00:06  16.0\n",
       "4 2021-02-01 19:00:08  19.0"
      ]
     },
     "execution_count": 2,
     "metadata": {},
     "output_type": "execute_result"
    }
   ],
   "source": [
    "df = pd.read_csv(\n",
    "    \"../input/2s/15day_0201_0215.csv\", usecols=[\"ds\", \"y\"], parse_dates=[\"ds\"]\n",
    ")\n",
    "print(df.shape)\n",
    "df.head()"
   ]
  },
  {
   "cell_type": "code",
   "execution_count": 3,
   "id": "77bbdcfc",
   "metadata": {
    "scrolled": false
   },
   "outputs": [
    {
     "data": {
      "text/html": [
       "<div>\n",
       "<style scoped>\n",
       "    .dataframe tbody tr th:only-of-type {\n",
       "        vertical-align: middle;\n",
       "    }\n",
       "\n",
       "    .dataframe tbody tr th {\n",
       "        vertical-align: top;\n",
       "    }\n",
       "\n",
       "    .dataframe thead th {\n",
       "        text-align: right;\n",
       "    }\n",
       "</style>\n",
       "<table border=\"1\" class=\"dataframe\">\n",
       "  <thead>\n",
       "    <tr style=\"text-align: right;\">\n",
       "      <th></th>\n",
       "      <th>ds</th>\n",
       "      <th>y</th>\n",
       "    </tr>\n",
       "  </thead>\n",
       "  <tbody>\n",
       "    <tr>\n",
       "      <th>647995</th>\n",
       "      <td>2021-02-16 18:59:50</td>\n",
       "      <td>19.0</td>\n",
       "    </tr>\n",
       "    <tr>\n",
       "      <th>647996</th>\n",
       "      <td>2021-02-16 18:59:52</td>\n",
       "      <td>19.0</td>\n",
       "    </tr>\n",
       "    <tr>\n",
       "      <th>647997</th>\n",
       "      <td>2021-02-16 18:59:54</td>\n",
       "      <td>19.0</td>\n",
       "    </tr>\n",
       "    <tr>\n",
       "      <th>647998</th>\n",
       "      <td>2021-02-16 18:59:56</td>\n",
       "      <td>19.0</td>\n",
       "    </tr>\n",
       "    <tr>\n",
       "      <th>647999</th>\n",
       "      <td>2021-02-16 18:59:58</td>\n",
       "      <td>19.0</td>\n",
       "    </tr>\n",
       "  </tbody>\n",
       "</table>\n",
       "</div>"
      ],
      "text/plain": [
       "                        ds     y\n",
       "647995 2021-02-16 18:59:50  19.0\n",
       "647996 2021-02-16 18:59:52  19.0\n",
       "647997 2021-02-16 18:59:54  19.0\n",
       "647998 2021-02-16 18:59:56  19.0\n",
       "647999 2021-02-16 18:59:58  19.0"
      ]
     },
     "execution_count": 3,
     "metadata": {},
     "output_type": "execute_result"
    }
   ],
   "source": [
    "df.tail()"
   ]
  },
  {
   "cell_type": "code",
   "execution_count": 4,
   "id": "e5a67100",
   "metadata": {},
   "outputs": [],
   "source": [
    "train = df[df['ds'] < '2021-2-10']\n",
    "valid = df[df['ds'] >= '2021-2-10']\n",
    "valid[\"days\"] = valid[\"ds\"].apply(lambda x: x.day)\n",
    "valid[\"hour\"] = valid[\"ds\"].apply(lambda x: x.hour)\n",
    "valid[\"days_hour\"] = valid[\"days\"].astype(str) + \"_\" + valid[\"hour\"].astype(str)\n",
    "valid = valid.groupby(\"days_hour\")[\"y\"].agg(\"mean\").reset_index()"
   ]
  },
  {
   "cell_type": "code",
   "execution_count": 5,
   "id": "83bce1c6",
   "metadata": {},
   "outputs": [],
   "source": [
    "cap = np.max(train.y)\n",
    "floor = np.min(train.y)"
   ]
  },
  {
   "cell_type": "code",
   "execution_count": 6,
   "id": "083bcea2",
   "metadata": {},
   "outputs": [],
   "source": [
    "def objective(trial: Trial) -> float:\n",
    "    params = {\n",
    "        \"changepoint_range\": trial.suggest_discrete_uniform(\n",
    "            \"changepoint_range\", 0.8, 0.95, 0.001\n",
    "        ),\n",
    "        \"n_changepoints\": trial.suggest_int(\"n_changepoints\", 20, 35),\n",
    "        \"changepoint_prior_scale\": trial.suggest_discrete_uniform(\n",
    "            \"changepoint_prior_scale\", 0.001, 0.5, 0.001\n",
    "        ),\n",
    "        \"seasonality_prior_scale\": trial.suggest_discrete_uniform(\n",
    "            \"seasonality_prior_scale\", 1, 25, 0.5\n",
    "        ),\n",
    "#         \"yearly_fourier\": trial.suggest_int(\"yearly_fourier\", 5, 15),\n",
    "#         \"monthly_fourier\": trial.suggest_int(\"monthly_fourier\", 3, 12),\n",
    "        \"weekly_fourier\": trial.suggest_int(\"weekly_fourier\", 3, 7),\n",
    "#         \"quaterly_fourier\": trial.suggest_int(\"quaterly_fourier\", 3, 10),\n",
    "#         \"yearly_prior\": trial.suggest_discrete_uniform(\"yearly_prior\", 1, 25, 0.5),\n",
    "#         \"monthly_prior\": trial.suggest_discrete_uniform(\"monthly_prior\", 1, 25, 0.5),\n",
    "        \"weekly_prior\": trial.suggest_discrete_uniform(\"weekly_prior\", 1, 25, 0.5),\n",
    "#         \"quaterly_prior\": trial.suggest_discrete_uniform(\"quaterly_prior\", 1, 25, 0.5),\n",
    "        \"growth\": \"logistic\",\n",
    "        \"seasonality_mode\": \"additive\",\n",
    "        \"yearly_seasonality\": False,\n",
    "        \"weekly_seasonality\": True,\n",
    "        \"daily_seasonality\": True,\n",
    "    }\n",
    "\n",
    "    # fit_model\n",
    "    m = Prophet(\n",
    "        changepoint_range=params[\"changepoint_prior_scale\"],\n",
    "        n_changepoints=params[\"n_changepoints\"],\n",
    "        changepoint_prior_scale=params[\"changepoint_prior_scale\"],\n",
    "        seasonality_prior_scale=params[\"seasonality_prior_scale\"],\n",
    "        yearly_seasonality=False,\n",
    "        weekly_seasonality=True,\n",
    "        daily_seasonality=True,\n",
    "        growth=\"logistic\",\n",
    "        seasonality_mode=\"additive\",\n",
    "    )\n",
    "    \n",
    "    m.add_seasonality(\n",
    "        name=\"weekly\",\n",
    "        period=7,\n",
    "        fourier_order=params[\"weekly_fourier\"],\n",
    "        prior_scale=params[\"weekly_prior\"],\n",
    "    )\n",
    "    train[\"cap\"] = cap\n",
    "    train[\"floor\"] = floor\n",
    "    m.fit(train)\n",
    "    future = m.make_future_dataframe(periods=163, freq=\"H\")\n",
    "\n",
    "    future[\"cap\"] = cap\n",
    "    future[\"floor\"] = floor\n",
    "\n",
    "    forecast = m.predict(future)\n",
    "    valid_forecast = forecast.tail(163)\n",
    "    val_rmse = mean_squared_error(valid.y, valid_forecast.yhat, squared=False)\n",
    "\n",
    "    return val_rmse"
   ]
  },
  {
   "cell_type": "code",
   "execution_count": null,
   "id": "9cbaf677",
   "metadata": {
    "scrolled": false
   },
   "outputs": [
    {
     "name": "stderr",
     "output_type": "stream",
     "text": [
      "\u001b[32m[I 2021-05-17 12:59:07,737]\u001b[0m A new study created in memory with name: no-name-79fc4805-ea54-4242-b1d0-4bbe63a23a64\u001b[0m\n",
      "\u001b[32m[I 2021-05-17 13:02:20,166]\u001b[0m Trial 0 finished with value: 8.023007897225467 and parameters: {'changepoint_range': 0.8560000000000001, 'n_changepoints': 35, 'changepoint_prior_scale': 0.366, 'seasonality_prior_scale': 15.5, 'weekly_fourier': 3, 'weekly_prior': 4.5}. Best is trial 0 with value: 8.023007897225467.\u001b[0m\n",
      "\u001b[32m[I 2021-05-17 13:05:44,084]\u001b[0m Trial 1 finished with value: 6.415560722271144 and parameters: {'changepoint_range': 0.808, 'n_changepoints': 33, 'changepoint_prior_scale': 0.301, 'seasonality_prior_scale': 18.0, 'weekly_fourier': 3, 'weekly_prior': 24.5}. Best is trial 1 with value: 6.415560722271144.\u001b[0m\n",
      "\u001b[32m[I 2021-05-17 13:08:06,745]\u001b[0m Trial 2 finished with value: 5.9323240117031375 and parameters: {'changepoint_range': 0.925, 'n_changepoints': 23, 'changepoint_prior_scale': 0.091, 'seasonality_prior_scale': 5.0, 'weekly_fourier': 4, 'weekly_prior': 13.5}. Best is trial 2 with value: 5.9323240117031375.\u001b[0m\n",
      "\u001b[32m[I 2021-05-17 13:10:53,415]\u001b[0m Trial 3 finished with value: 5.984604324116689 and parameters: {'changepoint_range': 0.865, 'n_changepoints': 24, 'changepoint_prior_scale': 0.306, 'seasonality_prior_scale': 4.0, 'weekly_fourier': 4, 'weekly_prior': 9.5}. Best is trial 2 with value: 5.9323240117031375.\u001b[0m\n",
      "\u001b[32m[I 2021-05-17 13:13:32,225]\u001b[0m Trial 4 finished with value: 5.930331060294684 and parameters: {'changepoint_range': 0.8680000000000001, 'n_changepoints': 32, 'changepoint_prior_scale': 0.1, 'seasonality_prior_scale': 13.5, 'weekly_fourier': 5, 'weekly_prior': 2.0}. Best is trial 4 with value: 5.930331060294684.\u001b[0m\n",
      "\u001b[32m[I 2021-05-17 13:15:51,036]\u001b[0m Trial 5 finished with value: 5.9485753261305305 and parameters: {'changepoint_range': 0.891, 'n_changepoints': 22, 'changepoint_prior_scale': 0.033, 'seasonality_prior_scale': 24.0, 'weekly_fourier': 7, 'weekly_prior': 20.5}. Best is trial 4 with value: 5.930331060294684.\u001b[0m\n",
      "\u001b[32m[I 2021-05-17 13:18:20,543]\u001b[0m Trial 6 finished with value: 7.357193459337815 and parameters: {'changepoint_range': 0.8450000000000001, 'n_changepoints': 21, 'changepoint_prior_scale': 0.343, 'seasonality_prior_scale': 11.5, 'weekly_fourier': 3, 'weekly_prior': 13.0}. Best is trial 4 with value: 5.930331060294684.\u001b[0m\n",
      "\u001b[32m[I 2021-05-17 13:21:16,667]\u001b[0m Trial 7 finished with value: 6.627572193785536 and parameters: {'changepoint_range': 0.805, 'n_changepoints': 34, 'changepoint_prior_scale': 0.13, 'seasonality_prior_scale': 17.0, 'weekly_fourier': 4, 'weekly_prior': 13.5}. Best is trial 4 with value: 5.930331060294684.\u001b[0m\n",
      "\u001b[32m[I 2021-05-17 13:24:26,432]\u001b[0m Trial 8 finished with value: 5.0731268892116885 and parameters: {'changepoint_range': 0.882, 'n_changepoints': 22, 'changepoint_prior_scale': 0.485, 'seasonality_prior_scale': 19.5, 'weekly_fourier': 7, 'weekly_prior': 22.5}. Best is trial 8 with value: 5.0731268892116885.\u001b[0m\n",
      "\u001b[32m[I 2021-05-17 13:27:10,809]\u001b[0m Trial 9 finished with value: 5.944552871454248 and parameters: {'changepoint_range': 0.89, 'n_changepoints': 34, 'changepoint_prior_scale': 0.045, 'seasonality_prior_scale': 5.5, 'weekly_fourier': 3, 'weekly_prior': 8.5}. Best is trial 8 with value: 5.0731268892116885.\u001b[0m\n",
      "\u001b[32m[I 2021-05-17 13:30:21,148]\u001b[0m Trial 10 finished with value: 5.193400473742071 and parameters: {'changepoint_range': 0.9420000000000001, 'n_changepoints': 27, 'changepoint_prior_scale': 0.485, 'seasonality_prior_scale': 24.0, 'weekly_fourier': 7, 'weekly_prior': 20.0}. Best is trial 8 with value: 5.0731268892116885.\u001b[0m\n",
      "\u001b[32m[I 2021-05-17 13:33:45,835]\u001b[0m Trial 11 finished with value: 5.2104978957531385 and parameters: {'changepoint_range': 0.93, 'n_changepoints': 27, 'changepoint_prior_scale': 0.497, 'seasonality_prior_scale': 25.0, 'weekly_fourier': 7, 'weekly_prior': 21.0}. Best is trial 8 with value: 5.0731268892116885.\u001b[0m\n",
      "\u001b[32m[I 2021-05-17 13:36:33,041]\u001b[0m Trial 12 finished with value: 5.776098790019315 and parameters: {'changepoint_range': 0.9450000000000001, 'n_changepoints': 29, 'changepoint_prior_scale': 0.499, 'seasonality_prior_scale': 21.5, 'weekly_fourier': 6, 'weekly_prior': 18.5}. Best is trial 8 with value: 5.0731268892116885.\u001b[0m\n",
      "\u001b[32m[I 2021-05-17 13:40:14,880]\u001b[0m Trial 13 finished with value: 11.165031563230615 and parameters: {'changepoint_range': 0.909, 'n_changepoints': 26, 'changepoint_prior_scale': 0.44, 'seasonality_prior_scale': 21.5, 'weekly_fourier': 6, 'weekly_prior': 25.0}. Best is trial 8 with value: 5.0731268892116885.\u001b[0m\n"
     ]
    }
   ],
   "source": [
    "study = optuna.create_study(direction=\"minimize\", sampler=optuna.samplers.TPESampler(seed=42))\n",
    "study.optimize(objective, n_trials=15)"
   ]
  },
  {
   "cell_type": "code",
   "execution_count": null,
   "id": "85853a17",
   "metadata": {},
   "outputs": [],
   "source": [
    "m = Prophet(\n",
    "    changepoint_range=study.best_params[\"changepoint_prior_scale\"],\n",
    "    n_changepoints=study.best_params[\"n_changepoints\"],\n",
    "    seasonality_prior_scale=study.best_params[\"seasonality_prior_scale\"],\n",
    "    changepoint_prior_scale=study.best_params[\"changepoint_prior_scale\"],\n",
    "    yearly_seasonality=False,\n",
    "    weekly_seasonality=False,\n",
    "    daily_seasonality=False,\n",
    "    growth=\"logistic\",\n",
    "    seasonality_mode=\"additive\",\n",
    ")\n",
    "m.add_seasonality(\n",
    "    name=\"weekly\",\n",
    "    period=7,\n",
    "    fourier_order=study.best_params[\"weekly_fourier\"],\n",
    "    prior_scale=study.best_params[\"weekly_prior\"],\n",
    ")"
   ]
  },
  {
   "cell_type": "code",
   "execution_count": null,
   "id": "2286be7a",
   "metadata": {},
   "outputs": [],
   "source": [
    "train['cap'] = cap\n",
    "train['floor'] = floor\n",
    "\n",
    "m.fit(train)\n",
    "\n",
    "future = m.make_future_dataframe(periods=144, freq=\"H\")\n",
    "future['cap'] = cap\n",
    "future['floor'] = floor"
   ]
  },
  {
   "cell_type": "code",
   "execution_count": null,
   "id": "e3262a1f",
   "metadata": {
    "scrolled": false
   },
   "outputs": [],
   "source": [
    "forecast = m.predict(future)\n",
    "forecast_plot = m.plot(forecast)"
   ]
  },
  {
   "cell_type": "code",
   "execution_count": null,
   "id": "9243f324",
   "metadata": {},
   "outputs": [],
   "source": [
    "# 시각화\n",
    "optuna.visualization.plot_optimization_history(study)"
   ]
  },
  {
   "cell_type": "code",
   "execution_count": null,
   "id": "98e586b0",
   "metadata": {},
   "outputs": [],
   "source": [
    "# 도움을 주는 파라미터\n",
    "optuna.visualization.plot_parallel_coordinate(study)"
   ]
  },
  {
   "cell_type": "code",
   "execution_count": null,
   "id": "8b3cd1e9",
   "metadata": {},
   "outputs": [],
   "source": [
    "# 각 파라미터들의 상관관계\n",
    "optuna.visualization.plot_contour(\n",
    "    study,\n",
    "    params=[\n",
    "        \"changepoint_range\",\n",
    "        \"n_changepoints\",\n",
    "        \"changepoint_prior_scale\",\n",
    "        \"seasonality_prior_scale\",\n",
    "        \"weekly_fourier\",\n",
    "        \"weekly_prior\",\n",
    "    ],\n",
    ")"
   ]
  },
  {
   "cell_type": "code",
   "execution_count": null,
   "id": "8c857b4c",
   "metadata": {},
   "outputs": [],
   "source": [
    "cap = np.max(df.y)\n",
    "floor = np.min(df.y)"
   ]
  },
  {
   "cell_type": "code",
   "execution_count": null,
   "id": "663e6510",
   "metadata": {
    "scrolled": true
   },
   "outputs": [],
   "source": [
    "df['cap'] = cap\n",
    "df['floor'] = floor\n",
    "\n",
    "m = Prophet(\n",
    "    changepoint_range=study.best_params[\"changepoint_prior_scale\"],\n",
    "    n_changepoints=study.best_params[\"n_changepoints\"],\n",
    "    seasonality_prior_scale=study.best_params[\"seasonality_prior_scale\"],\n",
    "    changepoint_prior_scale=study.best_params[\"changepoint_prior_scale\"],\n",
    "    yearly_seasonality=False,\n",
    "    weekly_seasonality=False,\n",
    "    daily_seasonality=False,\n",
    "    growth=\"logistic\",\n",
    "    seasonality_mode=\"additive\",\n",
    ")\n",
    "m.add_seasonality(\n",
    "    name=\"weekly\",\n",
    "    period=7,\n",
    "    fourier_order=study.best_params[\"weekly_fourier\"],\n",
    "    prior_scale=study.best_params[\"weekly_prior\"],\n",
    ")\n",
    "m.fit(df)"
   ]
  },
  {
   "cell_type": "code",
   "execution_count": null,
   "id": "49d38272",
   "metadata": {},
   "outputs": [],
   "source": [
    "future = m.make_future_dataframe(periods=144, freq=\"H\")\n",
    "future['cap'] = cap\n",
    "future['floor'] = floor\n",
    "forecast1 = m.predict(future)\n",
    "fig1 = m.plot(forecast1)"
   ]
  },
  {
   "cell_type": "code",
   "execution_count": null,
   "id": "002f63ea",
   "metadata": {
    "scrolled": false
   },
   "outputs": [],
   "source": [
    "m.plot_components(forecast1)"
   ]
  }
 ],
 "metadata": {
  "kernelspec": {
   "display_name": "Python 3",
   "language": "python",
   "name": "python3"
  },
  "language_info": {
   "codemirror_mode": {
    "name": "ipython",
    "version": 3
   },
   "file_extension": ".py",
   "mimetype": "text/x-python",
   "name": "python",
   "nbconvert_exporter": "python",
   "pygments_lexer": "ipython3",
   "version": "3.8.5"
  }
 },
 "nbformat": 4,
 "nbformat_minor": 5
}
