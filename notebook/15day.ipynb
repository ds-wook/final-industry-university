{
 "cells": [
  {
   "cell_type": "code",
   "execution_count": 1,
   "id": "f0ac80c5",
   "metadata": {},
   "outputs": [],
   "source": [
    "import numpy as np\n",
    "import pandas as pd\n",
    "import matplotlib.pyplot as plt\n",
    "import seaborn as sns\n",
    "import optuna\n",
    "from optuna import Trial\n",
    "from fbprophet import Prophet\n",
    "from sklearn.metrics import mean_squared_error\n",
    "import warnings\n",
    "warnings.filterwarnings(\"ignore\")"
   ]
  },
  {
   "cell_type": "code",
   "execution_count": 2,
   "id": "f6cdded8",
   "metadata": {},
   "outputs": [
    {
     "name": "stdout",
     "output_type": "stream",
     "text": [
      "(648000, 2)\n"
     ]
    },
    {
     "data": {
      "text/html": [
       "<div>\n",
       "<style scoped>\n",
       "    .dataframe tbody tr th:only-of-type {\n",
       "        vertical-align: middle;\n",
       "    }\n",
       "\n",
       "    .dataframe tbody tr th {\n",
       "        vertical-align: top;\n",
       "    }\n",
       "\n",
       "    .dataframe thead th {\n",
       "        text-align: right;\n",
       "    }\n",
       "</style>\n",
       "<table border=\"1\" class=\"dataframe\">\n",
       "  <thead>\n",
       "    <tr style=\"text-align: right;\">\n",
       "      <th></th>\n",
       "      <th>ds</th>\n",
       "      <th>y</th>\n",
       "    </tr>\n",
       "  </thead>\n",
       "  <tbody>\n",
       "    <tr>\n",
       "      <th>0</th>\n",
       "      <td>2021-02-01 19:00:00</td>\n",
       "      <td>12.0</td>\n",
       "    </tr>\n",
       "    <tr>\n",
       "      <th>1</th>\n",
       "      <td>2021-02-01 19:00:02</td>\n",
       "      <td>7.0</td>\n",
       "    </tr>\n",
       "    <tr>\n",
       "      <th>2</th>\n",
       "      <td>2021-02-01 19:00:04</td>\n",
       "      <td>1.0</td>\n",
       "    </tr>\n",
       "    <tr>\n",
       "      <th>3</th>\n",
       "      <td>2021-02-01 19:00:06</td>\n",
       "      <td>16.0</td>\n",
       "    </tr>\n",
       "    <tr>\n",
       "      <th>4</th>\n",
       "      <td>2021-02-01 19:00:08</td>\n",
       "      <td>19.0</td>\n",
       "    </tr>\n",
       "  </tbody>\n",
       "</table>\n",
       "</div>"
      ],
      "text/plain": [
       "                   ds     y\n",
       "0 2021-02-01 19:00:00  12.0\n",
       "1 2021-02-01 19:00:02   7.0\n",
       "2 2021-02-01 19:00:04   1.0\n",
       "3 2021-02-01 19:00:06  16.0\n",
       "4 2021-02-01 19:00:08  19.0"
      ]
     },
     "execution_count": 2,
     "metadata": {},
     "output_type": "execute_result"
    }
   ],
   "source": [
    "df = pd.read_csv(\n",
    "    \"../input/2s/15day_0201_0215.csv\", usecols=[\"ds\", \"y\"], parse_dates=[\"ds\"]\n",
    ")\n",
    "print(df.shape)\n",
    "df.head()"
   ]
  },
  {
   "cell_type": "code",
   "execution_count": 3,
   "id": "77bbdcfc",
   "metadata": {
    "scrolled": false
   },
   "outputs": [
    {
     "data": {
      "text/html": [
       "<div>\n",
       "<style scoped>\n",
       "    .dataframe tbody tr th:only-of-type {\n",
       "        vertical-align: middle;\n",
       "    }\n",
       "\n",
       "    .dataframe tbody tr th {\n",
       "        vertical-align: top;\n",
       "    }\n",
       "\n",
       "    .dataframe thead th {\n",
       "        text-align: right;\n",
       "    }\n",
       "</style>\n",
       "<table border=\"1\" class=\"dataframe\">\n",
       "  <thead>\n",
       "    <tr style=\"text-align: right;\">\n",
       "      <th></th>\n",
       "      <th>ds</th>\n",
       "      <th>y</th>\n",
       "    </tr>\n",
       "  </thead>\n",
       "  <tbody>\n",
       "    <tr>\n",
       "      <th>647995</th>\n",
       "      <td>2021-02-16 18:59:50</td>\n",
       "      <td>19.0</td>\n",
       "    </tr>\n",
       "    <tr>\n",
       "      <th>647996</th>\n",
       "      <td>2021-02-16 18:59:52</td>\n",
       "      <td>19.0</td>\n",
       "    </tr>\n",
       "    <tr>\n",
       "      <th>647997</th>\n",
       "      <td>2021-02-16 18:59:54</td>\n",
       "      <td>19.0</td>\n",
       "    </tr>\n",
       "    <tr>\n",
       "      <th>647998</th>\n",
       "      <td>2021-02-16 18:59:56</td>\n",
       "      <td>19.0</td>\n",
       "    </tr>\n",
       "    <tr>\n",
       "      <th>647999</th>\n",
       "      <td>2021-02-16 18:59:58</td>\n",
       "      <td>19.0</td>\n",
       "    </tr>\n",
       "  </tbody>\n",
       "</table>\n",
       "</div>"
      ],
      "text/plain": [
       "                        ds     y\n",
       "647995 2021-02-16 18:59:50  19.0\n",
       "647996 2021-02-16 18:59:52  19.0\n",
       "647997 2021-02-16 18:59:54  19.0\n",
       "647998 2021-02-16 18:59:56  19.0\n",
       "647999 2021-02-16 18:59:58  19.0"
      ]
     },
     "execution_count": 3,
     "metadata": {},
     "output_type": "execute_result"
    }
   ],
   "source": [
    "df.tail()"
   ]
  },
  {
   "cell_type": "code",
   "execution_count": 4,
   "id": "e5a67100",
   "metadata": {},
   "outputs": [],
   "source": [
    "train = df[df['ds'] < '2021-2-10']\n",
    "valid = df[df['ds'] >= '2021-2-10']\n",
    "valid[\"days\"] = valid[\"ds\"].apply(lambda x: x.day)\n",
    "valid[\"hour\"] = valid[\"ds\"].apply(lambda x: x.hour)\n",
    "valid[\"days_hour\"] = valid[\"days\"].astype(str) + \"_\" + valid[\"hour\"].astype(str)\n",
    "valid = valid.groupby(\"days_hour\")[\"y\"].agg(\"mean\").reset_index()"
   ]
  },
  {
   "cell_type": "code",
   "execution_count": 5,
   "id": "83bce1c6",
   "metadata": {},
   "outputs": [],
   "source": [
    "cap = np.max(train.y)\n",
    "floor = np.min(train.y)"
   ]
  },
  {
   "cell_type": "code",
   "execution_count": 6,
   "id": "083bcea2",
   "metadata": {},
   "outputs": [],
   "source": [
    "def objective(trial: Trial) -> float:\n",
    "    params = {\n",
    "        \"changepoint_range\": trial.suggest_discrete_uniform(\n",
    "            \"changepoint_range\", 0.8, 0.95, 0.001\n",
    "        ),\n",
    "        \"n_changepoints\": trial.suggest_int(\"n_changepoints\", 20, 35),\n",
    "        \"changepoint_prior_scale\": trial.suggest_discrete_uniform(\n",
    "            \"changepoint_prior_scale\", 0.001, 0.5, 0.001\n",
    "        ),\n",
    "        \"seasonality_prior_scale\": trial.suggest_discrete_uniform(\n",
    "            \"seasonality_prior_scale\", 1, 25, 0.5\n",
    "        ),\n",
    "#         \"yearly_fourier\": trial.suggest_int(\"yearly_fourier\", 5, 15),\n",
    "#         \"monthly_fourier\": trial.suggest_int(\"monthly_fourier\", 3, 12),\n",
    "#         \"weekly_fourier\": trial.suggest_int(\"weekly_fourier\", 3, 7),\n",
    "#         \"quaterly_fourier\": trial.suggest_int(\"quaterly_fourier\", 3, 10),\n",
    "#         \"yearly_prior\": trial.suggest_discrete_uniform(\"yearly_prior\", 1, 25, 0.5),\n",
    "#         \"monthly_prior\": trial.suggest_discrete_uniform(\"monthly_prior\", 1, 25, 0.5),\n",
    "#         \"weekly_prior\": trial.suggest_discrete_uniform(\"weekly_prior\", 1, 25, 0.5),\n",
    "#         \"quaterly_prior\": trial.suggest_discrete_uniform(\"quaterly_prior\", 1, 25, 0.5),\n",
    "        \"growth\": \"logistic\",\n",
    "        \"seasonality_mode\": \"additive\",\n",
    "        \"yearly_seasonality\": False,\n",
    "        \"weekly_seasonality\": True,\n",
    "        \"daily_seasonality\": True,\n",
    "    }\n",
    "    # fit_model\n",
    "    m = Prophet(**params)\n",
    "    train[\"cap\"] = cap\n",
    "    train[\"floor\"] = floor\n",
    "    m.fit(train)\n",
    "    future = m.make_future_dataframe(periods=163, freq=\"H\")\n",
    "\n",
    "    future[\"cap\"] = cap\n",
    "    future[\"floor\"] = floor\n",
    "\n",
    "    forecast = m.predict(future)\n",
    "    valid_forecast = forecast.tail(163)\n",
    "    val_rmse = mean_squared_error(valid.y, valid_forecast.yhat, squared=False)\n",
    "\n",
    "    return val_rmse"
   ]
  },
  {
   "cell_type": "code",
   "execution_count": null,
   "id": "9cbaf677",
   "metadata": {
    "scrolled": true
   },
   "outputs": [
    {
     "name": "stderr",
     "output_type": "stream",
     "text": [
      "\u001b[32m[I 2021-05-16 13:19:37,286]\u001b[0m A new study created in memory with name: no-name-db5575ab-bbeb-4774-8f99-c711f5589571\u001b[0m\n",
      "\u001b[32m[I 2021-05-16 13:24:01,534]\u001b[0m Trial 0 finished with value: 10.499390116576576 and parameters: {'changepoint_range': 0.8560000000000001, 'n_changepoints': 35, 'changepoint_prior_scale': 0.366, 'seasonality_prior_scale': 15.5}. Best is trial 0 with value: 10.499390116576576.\u001b[0m\n",
      "\u001b[32m[I 2021-05-16 13:27:27,698]\u001b[0m Trial 1 finished with value: 6.061870041305653 and parameters: {'changepoint_range': 0.8230000000000001, 'n_changepoints': 22, 'changepoint_prior_scale': 0.030000000000000002, 'seasonality_prior_scale': 22.0}. Best is trial 1 with value: 6.061870041305653.\u001b[0m\n",
      "\u001b[32m[I 2021-05-16 13:30:05,939]\u001b[0m Trial 2 finished with value: 5.9301764493853995 and parameters: {'changepoint_range': 0.89, 'n_changepoints': 31, 'changepoint_prior_scale': 0.011, 'seasonality_prior_scale': 24.5}. Best is trial 2 with value: 5.9301764493853995.\u001b[0m\n"
     ]
    }
   ],
   "source": [
    "study = optuna.create_study(direction=\"minimize\", sampler=optuna.samplers.TPESampler(seed=42))\n",
    "study.optimize(objective, n_trials=15)"
   ]
  },
  {
   "cell_type": "code",
   "execution_count": null,
   "id": "85853a17",
   "metadata": {},
   "outputs": [],
   "source": [
    "prophet_params = study.best_params\n",
    "prophet_params[\"growth\"] = \"logistic\"\n",
    "prophet_params[\"seasonality_mode\"] = \"additive\"\n",
    "prophet_params[\"weekly_seasonality\"] = True\n",
    "prophet_params[\"daily_seasonality\"] = True\n",
    "prophet_params[\"yearly_seasonality\"] = False\n",
    "m = Prophet(**prophet_params)"
   ]
  },
  {
   "cell_type": "code",
   "execution_count": null,
   "id": "2286be7a",
   "metadata": {},
   "outputs": [],
   "source": [
    "train['cap'] = cap\n",
    "train['floor'] = floor\n",
    "\n",
    "m.fit(train)\n",
    "\n",
    "future = m.make_future_dataframe(periods=144, freq=\"H\")\n",
    "future['cap'] = cap\n",
    "future['floor'] = floor"
   ]
  },
  {
   "cell_type": "code",
   "execution_count": null,
   "id": "e3262a1f",
   "metadata": {
    "scrolled": true
   },
   "outputs": [],
   "source": [
    "forecast = m.predict(future)\n",
    "forecast_plot = m.plot(forecast)"
   ]
  },
  {
   "cell_type": "code",
   "execution_count": null,
   "id": "8c857b4c",
   "metadata": {},
   "outputs": [],
   "source": [
    "cap = np.max(df.y)\n",
    "floor = np.min(df.y)"
   ]
  },
  {
   "cell_type": "code",
   "execution_count": null,
   "id": "663e6510",
   "metadata": {
    "scrolled": true
   },
   "outputs": [],
   "source": [
    "df['cap'] = cap\n",
    "df['floor'] = floor\n",
    "\n",
    "m = Prophet(**prophet_params)\n",
    "m.fit(df)"
   ]
  },
  {
   "cell_type": "code",
   "execution_count": null,
   "id": "49d38272",
   "metadata": {},
   "outputs": [],
   "source": [
    "future = m.make_future_dataframe(periods=144, freq=\"H\")\n",
    "future['cap'] = cap\n",
    "future['floor'] = floor\n",
    "forecast1 = m.predict(future)\n",
    "fig1 = m.plot(forecast1)"
   ]
  },
  {
   "cell_type": "code",
   "execution_count": null,
   "id": "002f63ea",
   "metadata": {
    "scrolled": false
   },
   "outputs": [],
   "source": [
    "m.plot_components(forecast1)"
   ]
  }
 ],
 "metadata": {
  "kernelspec": {
   "display_name": "Python 3",
   "language": "python",
   "name": "python3"
  },
  "language_info": {
   "codemirror_mode": {
    "name": "ipython",
    "version": 3
   },
   "file_extension": ".py",
   "mimetype": "text/x-python",
   "name": "python",
   "nbconvert_exporter": "python",
   "pygments_lexer": "ipython3",
   "version": "3.8.5"
  }
 },
 "nbformat": 4,
 "nbformat_minor": 5
}
