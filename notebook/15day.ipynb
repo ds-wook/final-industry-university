{
 "cells": [
  {
   "cell_type": "code",
   "execution_count": 8,
   "id": "f0ac80c5",
   "metadata": {},
   "outputs": [],
   "source": [
    "import numpy as np\n",
    "import pandas as pd\n",
    "import matplotlib.pyplot as plt\n",
    "import seaborn as sns\n",
    "import optuna\n",
    "from optuna import Trial\n",
    "from fbprophet import Prophet\n",
    "from sklearn.metrics import mean_squared_error\n",
    "import warnings\n",
    "warnings.filterwarnings(\"ignore\")"
   ]
  },
  {
   "cell_type": "code",
   "execution_count": 9,
   "id": "f6cdded8",
   "metadata": {},
   "outputs": [
    {
     "name": "stdout",
     "output_type": "stream",
     "text": [
      "(648000, 2)\n"
     ]
    },
    {
     "data": {
      "text/html": [
       "<div>\n",
       "<style scoped>\n",
       "    .dataframe tbody tr th:only-of-type {\n",
       "        vertical-align: middle;\n",
       "    }\n",
       "\n",
       "    .dataframe tbody tr th {\n",
       "        vertical-align: top;\n",
       "    }\n",
       "\n",
       "    .dataframe thead th {\n",
       "        text-align: right;\n",
       "    }\n",
       "</style>\n",
       "<table border=\"1\" class=\"dataframe\">\n",
       "  <thead>\n",
       "    <tr style=\"text-align: right;\">\n",
       "      <th></th>\n",
       "      <th>ds</th>\n",
       "      <th>y</th>\n",
       "    </tr>\n",
       "  </thead>\n",
       "  <tbody>\n",
       "    <tr>\n",
       "      <th>0</th>\n",
       "      <td>2021-02-01 19:00:00</td>\n",
       "      <td>12.0</td>\n",
       "    </tr>\n",
       "    <tr>\n",
       "      <th>1</th>\n",
       "      <td>2021-02-01 19:00:02</td>\n",
       "      <td>7.0</td>\n",
       "    </tr>\n",
       "    <tr>\n",
       "      <th>2</th>\n",
       "      <td>2021-02-01 19:00:04</td>\n",
       "      <td>1.0</td>\n",
       "    </tr>\n",
       "    <tr>\n",
       "      <th>3</th>\n",
       "      <td>2021-02-01 19:00:06</td>\n",
       "      <td>16.0</td>\n",
       "    </tr>\n",
       "    <tr>\n",
       "      <th>4</th>\n",
       "      <td>2021-02-01 19:00:08</td>\n",
       "      <td>19.0</td>\n",
       "    </tr>\n",
       "  </tbody>\n",
       "</table>\n",
       "</div>"
      ],
      "text/plain": [
       "                   ds     y\n",
       "0 2021-02-01 19:00:00  12.0\n",
       "1 2021-02-01 19:00:02   7.0\n",
       "2 2021-02-01 19:00:04   1.0\n",
       "3 2021-02-01 19:00:06  16.0\n",
       "4 2021-02-01 19:00:08  19.0"
      ]
     },
     "execution_count": 9,
     "metadata": {},
     "output_type": "execute_result"
    }
   ],
   "source": [
    "df = pd.read_csv(\n",
    "    \"../input/2s/15day_0201_0215.csv\", usecols=[\"ds\", \"y\"], parse_dates=[\"ds\"]\n",
    ")\n",
    "print(df.shape)\n",
    "df.head()"
   ]
  },
  {
   "cell_type": "code",
   "execution_count": 10,
   "id": "77bbdcfc",
   "metadata": {
    "scrolled": false
   },
   "outputs": [
    {
     "data": {
      "text/html": [
       "<div>\n",
       "<style scoped>\n",
       "    .dataframe tbody tr th:only-of-type {\n",
       "        vertical-align: middle;\n",
       "    }\n",
       "\n",
       "    .dataframe tbody tr th {\n",
       "        vertical-align: top;\n",
       "    }\n",
       "\n",
       "    .dataframe thead th {\n",
       "        text-align: right;\n",
       "    }\n",
       "</style>\n",
       "<table border=\"1\" class=\"dataframe\">\n",
       "  <thead>\n",
       "    <tr style=\"text-align: right;\">\n",
       "      <th></th>\n",
       "      <th>ds</th>\n",
       "      <th>y</th>\n",
       "    </tr>\n",
       "  </thead>\n",
       "  <tbody>\n",
       "    <tr>\n",
       "      <th>647995</th>\n",
       "      <td>2021-02-16 18:59:50</td>\n",
       "      <td>19.0</td>\n",
       "    </tr>\n",
       "    <tr>\n",
       "      <th>647996</th>\n",
       "      <td>2021-02-16 18:59:52</td>\n",
       "      <td>19.0</td>\n",
       "    </tr>\n",
       "    <tr>\n",
       "      <th>647997</th>\n",
       "      <td>2021-02-16 18:59:54</td>\n",
       "      <td>19.0</td>\n",
       "    </tr>\n",
       "    <tr>\n",
       "      <th>647998</th>\n",
       "      <td>2021-02-16 18:59:56</td>\n",
       "      <td>19.0</td>\n",
       "    </tr>\n",
       "    <tr>\n",
       "      <th>647999</th>\n",
       "      <td>2021-02-16 18:59:58</td>\n",
       "      <td>19.0</td>\n",
       "    </tr>\n",
       "  </tbody>\n",
       "</table>\n",
       "</div>"
      ],
      "text/plain": [
       "                        ds     y\n",
       "647995 2021-02-16 18:59:50  19.0\n",
       "647996 2021-02-16 18:59:52  19.0\n",
       "647997 2021-02-16 18:59:54  19.0\n",
       "647998 2021-02-16 18:59:56  19.0\n",
       "647999 2021-02-16 18:59:58  19.0"
      ]
     },
     "execution_count": 10,
     "metadata": {},
     "output_type": "execute_result"
    }
   ],
   "source": [
    "df.tail()"
   ]
  },
  {
   "cell_type": "code",
   "execution_count": 11,
   "id": "e5a67100",
   "metadata": {},
   "outputs": [],
   "source": [
    "train = df[df['ds'] < '2021-2-10']\n",
    "valid = df[df['ds'] >= '2021-2-10']"
   ]
  },
  {
   "cell_type": "code",
   "execution_count": 12,
   "id": "83bce1c6",
   "metadata": {},
   "outputs": [],
   "source": [
    "cap = np.max(train.y)\n",
    "floor = np.min(train.y)"
   ]
  },
  {
   "cell_type": "code",
   "execution_count": 13,
   "id": "083bcea2",
   "metadata": {},
   "outputs": [],
   "source": [
    "def objective(trial: Trial) -> float:\n",
    "    params = {\n",
    "        \"changepoint_range\": trial.suggest_discrete_uniform(\n",
    "            \"changepoint_range\", 0.8, 0.95, 0.001\n",
    "        ),\n",
    "        \"n_changepoints\": trial.suggest_int(\"n_changepoints\", 20, 35),\n",
    "        \"changepoint_prior_scale\": trial.suggest_discrete_uniform(\n",
    "            \"changepoint_prior_scale\", 0.001, 0.5, 0.001\n",
    "        ),\n",
    "        \"seasonality_prior_scale\": trial.suggest_discrete_uniform(\n",
    "            \"seasonality_prior_scale\", 1, 25, 0.5\n",
    "        ),\n",
    "#         \"yearly_fourier\": trial.suggest_int(\"yearly_fourier\", 5, 15),\n",
    "#         \"monthly_fourier\": trial.suggest_int(\"monthly_fourier\", 3, 12),\n",
    "#         \"weekly_fourier\": trial.suggest_int(\"weekly_fourier\", 3, 7),\n",
    "#         \"quaterly_fourier\": trial.suggest_int(\"quaterly_fourier\", 3, 10),\n",
    "#         \"yearly_prior\": trial.suggest_discrete_uniform(\"yearly_prior\", 1, 25, 0.5),\n",
    "#         \"monthly_prior\": trial.suggest_discrete_uniform(\"monthly_prior\", 1, 25, 0.5),\n",
    "#         \"weekly_prior\": trial.suggest_discrete_uniform(\"weekly_prior\", 1, 25, 0.5),\n",
    "#         \"quaterly_prior\": trial.suggest_discrete_uniform(\"quaterly_prior\", 1, 25, 0.5),\n",
    "        \"growth\": \"logistic\",\n",
    "        \"seasonality_mode\": \"additive\",\n",
    "        \"yearly_seasonality\": False,\n",
    "        \"weekly_seasonality\": True,\n",
    "        \"daily_seasonality\": True,\n",
    "    }\n",
    "    # fit_model\n",
    "    m = Prophet(**params)\n",
    "    train[\"cap\"] = cap\n",
    "    train[\"floor\"] = floor\n",
    "    m.fit(train)\n",
    "    future = m.make_future_dataframe(periods=7)\n",
    "    print(future)\n",
    "    future[\"cap\"] = cap\n",
    "    future[\"floor\"] = floor\n",
    "\n",
    "    forecast = m.predict(future)\n",
    "    print(forecast)\n",
    "    valid_forecast = forecast.tail(7)\n",
    "    val_rmse = mean_squared_error(valid.y, valid_forecast.yhat, squared=False)\n",
    "\n",
    "    return val_rmse"
   ]
  },
  {
   "cell_type": "code",
   "execution_count": 14,
   "id": "9cbaf677",
   "metadata": {
    "scrolled": true
   },
   "outputs": [
    {
     "name": "stderr",
     "output_type": "stream",
     "text": [
      "\u001b[32m[I 2021-05-15 17:23:29,283]\u001b[0m A new study created in memory with name: no-name-b696552b-4607-4dc9-bbff-e5ccf6d6822a\u001b[0m\n"
     ]
    },
    {
     "name": "stdout",
     "output_type": "stream",
     "text": [
      "                        ds\n",
      "0      2021-02-01 19:00:00\n",
      "1      2021-02-01 19:00:02\n",
      "2      2021-02-01 19:00:04\n",
      "3      2021-02-01 19:00:06\n",
      "4      2021-02-01 19:00:08\n",
      "...                    ...\n",
      "354602 2021-02-12 23:59:58\n",
      "354603 2021-02-13 23:59:58\n",
      "354604 2021-02-14 23:59:58\n",
      "354605 2021-02-15 23:59:58\n",
      "354606 2021-02-16 23:59:58\n",
      "\n",
      "[354607 rows x 1 columns]\n"
     ]
    },
    {
     "name": "stderr",
     "output_type": "stream",
     "text": [
      "\u001b[33m[W 2021-05-15 17:26:54,873]\u001b[0m Trial 0 failed because of the following error: ValueError('Found input variables with inconsistent numbers of samples: [293400, 7]')\n",
      "Traceback (most recent call last):\n",
      "  File \"/home/leewook/anaconda3/envs/DsProject/lib/python3.8/site-packages/optuna/_optimize.py\", line 217, in _run_trial\n",
      "    value_or_values = func(trial)\n",
      "  File \"<ipython-input-13-918ba38cd2cc>\", line 40, in objective\n",
      "    val_rmse = mean_squared_error(valid.y, valid_forecast.yhat, squared=False)\n",
      "  File \"/home/leewook/anaconda3/envs/DsProject/lib/python3.8/site-packages/sklearn/utils/validation.py\", line 72, in inner_f\n",
      "    return f(**kwargs)\n",
      "  File \"/home/leewook/anaconda3/envs/DsProject/lib/python3.8/site-packages/sklearn/metrics/_regression.py\", line 255, in mean_squared_error\n",
      "    y_type, y_true, y_pred, multioutput = _check_reg_targets(\n",
      "  File \"/home/leewook/anaconda3/envs/DsProject/lib/python3.8/site-packages/sklearn/metrics/_regression.py\", line 84, in _check_reg_targets\n",
      "    check_consistent_length(y_true, y_pred)\n",
      "  File \"/home/leewook/anaconda3/envs/DsProject/lib/python3.8/site-packages/sklearn/utils/validation.py\", line 255, in check_consistent_length\n",
      "    raise ValueError(\"Found input variables with inconsistent numbers of\"\n",
      "ValueError: Found input variables with inconsistent numbers of samples: [293400, 7]\u001b[0m\n"
     ]
    },
    {
     "name": "stdout",
     "output_type": "stream",
     "text": [
      "                        ds      trend   cap  floor  yhat_lower  yhat_upper  \\\n",
      "0      2021-02-01 19:00:00  11.118334  98.0    0.0   -8.156237   26.567408   \n",
      "1      2021-02-01 19:00:02  11.118348  98.0    0.0   -7.809374   24.501779   \n",
      "2      2021-02-01 19:00:04  11.118362  98.0    0.0   -6.906516   26.379446   \n",
      "3      2021-02-01 19:00:06  11.118376  98.0    0.0   -8.575483   25.144945   \n",
      "4      2021-02-01 19:00:08  11.118389  98.0    0.0   -7.821857   25.265530   \n",
      "...                    ...        ...   ...    ...         ...         ...   \n",
      "354602 2021-02-12 23:59:58   7.437503  98.0    0.0   -6.117745   51.928304   \n",
      "354603 2021-02-13 23:59:58   6.203004  98.0    0.0  -14.908942   68.910137   \n",
      "354604 2021-02-14 23:59:58   5.161731  98.0    0.0  -12.657050   83.448310   \n",
      "354605 2021-02-15 23:59:58   4.287090  98.0    0.0  -10.093307   93.060751   \n",
      "354606 2021-02-16 23:59:58   3.554979  98.0    0.0   -5.746662  101.281119   \n",
      "\n",
      "        trend_lower  trend_upper  additive_terms  additive_terms_lower  ...  \\\n",
      "0         11.118334    11.118334       -1.878494             -1.878494  ...   \n",
      "1         11.118348    11.118348       -1.878588             -1.878588  ...   \n",
      "2         11.118362    11.118362       -1.878682             -1.878682  ...   \n",
      "3         11.118376    11.118376       -1.878775             -1.878775  ...   \n",
      "4         11.118389    11.118389       -1.878869             -1.878869  ...   \n",
      "...             ...          ...             ...                   ...  ...   \n",
      "354602     0.705172    48.825363        2.770234              2.770234  ...   \n",
      "354603     0.148445    71.931677       -5.001794             -5.001794  ...   \n",
      "354604     0.025996    89.147648       -2.624101             -2.624101  ...   \n",
      "354605     0.004170    96.073097        1.281239              1.281239  ...   \n",
      "354606     0.000568    97.483709        5.866459              5.866459  ...   \n",
      "\n",
      "           daily  daily_lower  daily_upper    weekly  weekly_lower  \\\n",
      "0      -0.893343    -0.893343    -0.893343 -0.985152     -0.985152   \n",
      "1      -0.893516    -0.893516    -0.893516 -0.985072     -0.985072   \n",
      "2      -0.893690    -0.893690    -0.893690 -0.984992     -0.984992   \n",
      "3      -0.893863    -0.893863    -0.893863 -0.984912     -0.984912   \n",
      "4      -0.894036    -0.894036    -0.894036 -0.984833     -0.984833   \n",
      "...          ...          ...          ...       ...           ...   \n",
      "354602  1.507355     1.507355     1.507355  1.262878      1.262878   \n",
      "354603  1.507355     1.507355     1.507355 -6.509149     -6.509149   \n",
      "354604  1.507355     1.507355     1.507355 -4.131456     -4.131456   \n",
      "354605  1.507355     1.507355     1.507355 -0.226116     -0.226116   \n",
      "354606  1.507355     1.507355     1.507355  4.359104      4.359104   \n",
      "\n",
      "        weekly_upper  multiplicative_terms  multiplicative_terms_lower  \\\n",
      "0          -0.985152                   0.0                         0.0   \n",
      "1          -0.985072                   0.0                         0.0   \n",
      "2          -0.984992                   0.0                         0.0   \n",
      "3          -0.984912                   0.0                         0.0   \n",
      "4          -0.984833                   0.0                         0.0   \n",
      "...              ...                   ...                         ...   \n",
      "354602      1.262878                   0.0                         0.0   \n",
      "354603     -6.509149                   0.0                         0.0   \n",
      "354604     -4.131456                   0.0                         0.0   \n",
      "354605     -0.226116                   0.0                         0.0   \n",
      "354606      4.359104                   0.0                         0.0   \n",
      "\n",
      "        multiplicative_terms_upper       yhat  \n",
      "0                              0.0   9.239840  \n",
      "1                              0.0   9.239760  \n",
      "2                              0.0   9.239680  \n",
      "3                              0.0   9.239600  \n",
      "4                              0.0   9.239521  \n",
      "...                            ...        ...  \n",
      "354602                         0.0  10.207737  \n",
      "354603                         0.0   1.201210  \n",
      "354604                         0.0   2.537630  \n",
      "354605                         0.0   5.568329  \n",
      "354606                         0.0   9.421438  \n",
      "\n",
      "[354607 rows x 21 columns]\n"
     ]
    },
    {
     "ename": "ValueError",
     "evalue": "Found input variables with inconsistent numbers of samples: [293400, 7]",
     "output_type": "error",
     "traceback": [
      "\u001b[0;31m---------------------------------------------------------------------------\u001b[0m",
      "\u001b[0;31mValueError\u001b[0m                                Traceback (most recent call last)",
      "\u001b[0;32m<ipython-input-14-3b4609454e24>\u001b[0m in \u001b[0;36m<module>\u001b[0;34m\u001b[0m\n\u001b[1;32m      1\u001b[0m \u001b[0mstudy\u001b[0m \u001b[0;34m=\u001b[0m \u001b[0moptuna\u001b[0m\u001b[0;34m.\u001b[0m\u001b[0mcreate_study\u001b[0m\u001b[0;34m(\u001b[0m\u001b[0mdirection\u001b[0m\u001b[0;34m=\u001b[0m\u001b[0;34m\"minimize\"\u001b[0m\u001b[0;34m,\u001b[0m \u001b[0msampler\u001b[0m\u001b[0;34m=\u001b[0m\u001b[0moptuna\u001b[0m\u001b[0;34m.\u001b[0m\u001b[0msamplers\u001b[0m\u001b[0;34m.\u001b[0m\u001b[0mTPESampler\u001b[0m\u001b[0;34m(\u001b[0m\u001b[0mseed\u001b[0m\u001b[0;34m=\u001b[0m\u001b[0;36m42\u001b[0m\u001b[0;34m)\u001b[0m\u001b[0;34m)\u001b[0m\u001b[0;34m\u001b[0m\u001b[0;34m\u001b[0m\u001b[0m\n\u001b[0;32m----> 2\u001b[0;31m \u001b[0mstudy\u001b[0m\u001b[0;34m.\u001b[0m\u001b[0moptimize\u001b[0m\u001b[0;34m(\u001b[0m\u001b[0mobjective\u001b[0m\u001b[0;34m,\u001b[0m \u001b[0mn_trials\u001b[0m\u001b[0;34m=\u001b[0m\u001b[0;36m15\u001b[0m\u001b[0;34m)\u001b[0m\u001b[0;34m\u001b[0m\u001b[0;34m\u001b[0m\u001b[0m\n\u001b[0m",
      "\u001b[0;32m~/anaconda3/envs/DsProject/lib/python3.8/site-packages/optuna/study.py\u001b[0m in \u001b[0;36moptimize\u001b[0;34m(self, func, n_trials, timeout, n_jobs, catch, callbacks, gc_after_trial, show_progress_bar)\u001b[0m\n\u001b[1;32m    398\u001b[0m             )\n\u001b[1;32m    399\u001b[0m \u001b[0;34m\u001b[0m\u001b[0m\n\u001b[0;32m--> 400\u001b[0;31m         _optimize(\n\u001b[0m\u001b[1;32m    401\u001b[0m             \u001b[0mstudy\u001b[0m\u001b[0;34m=\u001b[0m\u001b[0mself\u001b[0m\u001b[0;34m,\u001b[0m\u001b[0;34m\u001b[0m\u001b[0;34m\u001b[0m\u001b[0m\n\u001b[1;32m    402\u001b[0m             \u001b[0mfunc\u001b[0m\u001b[0;34m=\u001b[0m\u001b[0mfunc\u001b[0m\u001b[0;34m,\u001b[0m\u001b[0;34m\u001b[0m\u001b[0;34m\u001b[0m\u001b[0m\n",
      "\u001b[0;32m~/anaconda3/envs/DsProject/lib/python3.8/site-packages/optuna/_optimize.py\u001b[0m in \u001b[0;36m_optimize\u001b[0;34m(study, func, n_trials, timeout, n_jobs, catch, callbacks, gc_after_trial, show_progress_bar)\u001b[0m\n\u001b[1;32m     64\u001b[0m     \u001b[0;32mtry\u001b[0m\u001b[0;34m:\u001b[0m\u001b[0;34m\u001b[0m\u001b[0;34m\u001b[0m\u001b[0m\n\u001b[1;32m     65\u001b[0m         \u001b[0;32mif\u001b[0m \u001b[0mn_jobs\u001b[0m \u001b[0;34m==\u001b[0m \u001b[0;36m1\u001b[0m\u001b[0;34m:\u001b[0m\u001b[0;34m\u001b[0m\u001b[0;34m\u001b[0m\u001b[0m\n\u001b[0;32m---> 66\u001b[0;31m             _optimize_sequential(\n\u001b[0m\u001b[1;32m     67\u001b[0m                 \u001b[0mstudy\u001b[0m\u001b[0;34m,\u001b[0m\u001b[0;34m\u001b[0m\u001b[0;34m\u001b[0m\u001b[0m\n\u001b[1;32m     68\u001b[0m                 \u001b[0mfunc\u001b[0m\u001b[0;34m,\u001b[0m\u001b[0;34m\u001b[0m\u001b[0;34m\u001b[0m\u001b[0m\n",
      "\u001b[0;32m~/anaconda3/envs/DsProject/lib/python3.8/site-packages/optuna/_optimize.py\u001b[0m in \u001b[0;36m_optimize_sequential\u001b[0;34m(study, func, n_trials, timeout, catch, callbacks, gc_after_trial, reseed_sampler_rng, time_start, progress_bar)\u001b[0m\n\u001b[1;32m    161\u001b[0m \u001b[0;34m\u001b[0m\u001b[0m\n\u001b[1;32m    162\u001b[0m         \u001b[0;32mtry\u001b[0m\u001b[0;34m:\u001b[0m\u001b[0;34m\u001b[0m\u001b[0;34m\u001b[0m\u001b[0m\n\u001b[0;32m--> 163\u001b[0;31m             \u001b[0mtrial\u001b[0m \u001b[0;34m=\u001b[0m \u001b[0m_run_trial\u001b[0m\u001b[0;34m(\u001b[0m\u001b[0mstudy\u001b[0m\u001b[0;34m,\u001b[0m \u001b[0mfunc\u001b[0m\u001b[0;34m,\u001b[0m \u001b[0mcatch\u001b[0m\u001b[0;34m)\u001b[0m\u001b[0;34m\u001b[0m\u001b[0;34m\u001b[0m\u001b[0m\n\u001b[0m\u001b[1;32m    164\u001b[0m         \u001b[0;32mexcept\u001b[0m \u001b[0mException\u001b[0m\u001b[0;34m:\u001b[0m\u001b[0;34m\u001b[0m\u001b[0;34m\u001b[0m\u001b[0m\n\u001b[1;32m    165\u001b[0m             \u001b[0;32mraise\u001b[0m\u001b[0;34m\u001b[0m\u001b[0;34m\u001b[0m\u001b[0m\n",
      "\u001b[0;32m~/anaconda3/envs/DsProject/lib/python3.8/site-packages/optuna/_optimize.py\u001b[0m in \u001b[0;36m_run_trial\u001b[0;34m(study, func, catch)\u001b[0m\n\u001b[1;32m    266\u001b[0m \u001b[0;34m\u001b[0m\u001b[0m\n\u001b[1;32m    267\u001b[0m     \u001b[0;32mif\u001b[0m \u001b[0mstate\u001b[0m \u001b[0;34m==\u001b[0m \u001b[0mTrialState\u001b[0m\u001b[0;34m.\u001b[0m\u001b[0mFAIL\u001b[0m \u001b[0;32mand\u001b[0m \u001b[0mfunc_err\u001b[0m \u001b[0;32mis\u001b[0m \u001b[0;32mnot\u001b[0m \u001b[0;32mNone\u001b[0m \u001b[0;32mand\u001b[0m \u001b[0;32mnot\u001b[0m \u001b[0misinstance\u001b[0m\u001b[0;34m(\u001b[0m\u001b[0mfunc_err\u001b[0m\u001b[0;34m,\u001b[0m \u001b[0mcatch\u001b[0m\u001b[0;34m)\u001b[0m\u001b[0;34m:\u001b[0m\u001b[0;34m\u001b[0m\u001b[0;34m\u001b[0m\u001b[0m\n\u001b[0;32m--> 268\u001b[0;31m         \u001b[0;32mraise\u001b[0m \u001b[0mfunc_err\u001b[0m\u001b[0;34m\u001b[0m\u001b[0;34m\u001b[0m\u001b[0m\n\u001b[0m\u001b[1;32m    269\u001b[0m     \u001b[0;32mreturn\u001b[0m \u001b[0mtrial\u001b[0m\u001b[0;34m\u001b[0m\u001b[0;34m\u001b[0m\u001b[0m\n\u001b[1;32m    270\u001b[0m \u001b[0;34m\u001b[0m\u001b[0m\n",
      "\u001b[0;32m~/anaconda3/envs/DsProject/lib/python3.8/site-packages/optuna/_optimize.py\u001b[0m in \u001b[0;36m_run_trial\u001b[0;34m(study, func, catch)\u001b[0m\n\u001b[1;32m    215\u001b[0m \u001b[0;34m\u001b[0m\u001b[0m\n\u001b[1;32m    216\u001b[0m     \u001b[0;32mtry\u001b[0m\u001b[0;34m:\u001b[0m\u001b[0;34m\u001b[0m\u001b[0;34m\u001b[0m\u001b[0m\n\u001b[0;32m--> 217\u001b[0;31m         \u001b[0mvalue_or_values\u001b[0m \u001b[0;34m=\u001b[0m \u001b[0mfunc\u001b[0m\u001b[0;34m(\u001b[0m\u001b[0mtrial\u001b[0m\u001b[0;34m)\u001b[0m\u001b[0;34m\u001b[0m\u001b[0;34m\u001b[0m\u001b[0m\n\u001b[0m\u001b[1;32m    218\u001b[0m     \u001b[0;32mexcept\u001b[0m \u001b[0mexceptions\u001b[0m\u001b[0;34m.\u001b[0m\u001b[0mTrialPruned\u001b[0m \u001b[0;32mas\u001b[0m \u001b[0me\u001b[0m\u001b[0;34m:\u001b[0m\u001b[0;34m\u001b[0m\u001b[0;34m\u001b[0m\u001b[0m\n\u001b[1;32m    219\u001b[0m         \u001b[0;31m# TODO(mamu): Handle multi-objective cases.\u001b[0m\u001b[0;34m\u001b[0m\u001b[0;34m\u001b[0m\u001b[0;34m\u001b[0m\u001b[0m\n",
      "\u001b[0;32m<ipython-input-13-918ba38cd2cc>\u001b[0m in \u001b[0;36mobjective\u001b[0;34m(trial)\u001b[0m\n\u001b[1;32m     38\u001b[0m     \u001b[0mprint\u001b[0m\u001b[0;34m(\u001b[0m\u001b[0mforecast\u001b[0m\u001b[0;34m)\u001b[0m\u001b[0;34m\u001b[0m\u001b[0;34m\u001b[0m\u001b[0m\n\u001b[1;32m     39\u001b[0m     \u001b[0mvalid_forecast\u001b[0m \u001b[0;34m=\u001b[0m \u001b[0mforecast\u001b[0m\u001b[0;34m.\u001b[0m\u001b[0mtail\u001b[0m\u001b[0;34m(\u001b[0m\u001b[0;36m7\u001b[0m\u001b[0;34m)\u001b[0m\u001b[0;34m\u001b[0m\u001b[0;34m\u001b[0m\u001b[0m\n\u001b[0;32m---> 40\u001b[0;31m     \u001b[0mval_rmse\u001b[0m \u001b[0;34m=\u001b[0m \u001b[0mmean_squared_error\u001b[0m\u001b[0;34m(\u001b[0m\u001b[0mvalid\u001b[0m\u001b[0;34m.\u001b[0m\u001b[0my\u001b[0m\u001b[0;34m,\u001b[0m \u001b[0mvalid_forecast\u001b[0m\u001b[0;34m.\u001b[0m\u001b[0myhat\u001b[0m\u001b[0;34m,\u001b[0m \u001b[0msquared\u001b[0m\u001b[0;34m=\u001b[0m\u001b[0;32mFalse\u001b[0m\u001b[0;34m)\u001b[0m\u001b[0;34m\u001b[0m\u001b[0;34m\u001b[0m\u001b[0m\n\u001b[0m\u001b[1;32m     41\u001b[0m \u001b[0;34m\u001b[0m\u001b[0m\n\u001b[1;32m     42\u001b[0m     \u001b[0;32mreturn\u001b[0m \u001b[0mval_rmse\u001b[0m\u001b[0;34m\u001b[0m\u001b[0;34m\u001b[0m\u001b[0m\n",
      "\u001b[0;32m~/anaconda3/envs/DsProject/lib/python3.8/site-packages/sklearn/utils/validation.py\u001b[0m in \u001b[0;36minner_f\u001b[0;34m(*args, **kwargs)\u001b[0m\n\u001b[1;32m     70\u001b[0m                           FutureWarning)\n\u001b[1;32m     71\u001b[0m         \u001b[0mkwargs\u001b[0m\u001b[0;34m.\u001b[0m\u001b[0mupdate\u001b[0m\u001b[0;34m(\u001b[0m\u001b[0;34m{\u001b[0m\u001b[0mk\u001b[0m\u001b[0;34m:\u001b[0m \u001b[0marg\u001b[0m \u001b[0;32mfor\u001b[0m \u001b[0mk\u001b[0m\u001b[0;34m,\u001b[0m \u001b[0marg\u001b[0m \u001b[0;32min\u001b[0m \u001b[0mzip\u001b[0m\u001b[0;34m(\u001b[0m\u001b[0msig\u001b[0m\u001b[0;34m.\u001b[0m\u001b[0mparameters\u001b[0m\u001b[0;34m,\u001b[0m \u001b[0margs\u001b[0m\u001b[0;34m)\u001b[0m\u001b[0;34m}\u001b[0m\u001b[0;34m)\u001b[0m\u001b[0;34m\u001b[0m\u001b[0;34m\u001b[0m\u001b[0m\n\u001b[0;32m---> 72\u001b[0;31m         \u001b[0;32mreturn\u001b[0m \u001b[0mf\u001b[0m\u001b[0;34m(\u001b[0m\u001b[0;34m**\u001b[0m\u001b[0mkwargs\u001b[0m\u001b[0;34m)\u001b[0m\u001b[0;34m\u001b[0m\u001b[0;34m\u001b[0m\u001b[0m\n\u001b[0m\u001b[1;32m     73\u001b[0m     \u001b[0;32mreturn\u001b[0m \u001b[0minner_f\u001b[0m\u001b[0;34m\u001b[0m\u001b[0;34m\u001b[0m\u001b[0m\n\u001b[1;32m     74\u001b[0m \u001b[0;34m\u001b[0m\u001b[0m\n",
      "\u001b[0;32m~/anaconda3/envs/DsProject/lib/python3.8/site-packages/sklearn/metrics/_regression.py\u001b[0m in \u001b[0;36mmean_squared_error\u001b[0;34m(y_true, y_pred, sample_weight, multioutput, squared)\u001b[0m\n\u001b[1;32m    253\u001b[0m \u001b[0;34m\u001b[0m\u001b[0m\n\u001b[1;32m    254\u001b[0m     \"\"\"\n\u001b[0;32m--> 255\u001b[0;31m     y_type, y_true, y_pred, multioutput = _check_reg_targets(\n\u001b[0m\u001b[1;32m    256\u001b[0m         y_true, y_pred, multioutput)\n\u001b[1;32m    257\u001b[0m     \u001b[0mcheck_consistent_length\u001b[0m\u001b[0;34m(\u001b[0m\u001b[0my_true\u001b[0m\u001b[0;34m,\u001b[0m \u001b[0my_pred\u001b[0m\u001b[0;34m,\u001b[0m \u001b[0msample_weight\u001b[0m\u001b[0;34m)\u001b[0m\u001b[0;34m\u001b[0m\u001b[0;34m\u001b[0m\u001b[0m\n",
      "\u001b[0;32m~/anaconda3/envs/DsProject/lib/python3.8/site-packages/sklearn/metrics/_regression.py\u001b[0m in \u001b[0;36m_check_reg_targets\u001b[0;34m(y_true, y_pred, multioutput, dtype)\u001b[0m\n\u001b[1;32m     82\u001b[0m \u001b[0;34m\u001b[0m\u001b[0m\n\u001b[1;32m     83\u001b[0m     \"\"\"\n\u001b[0;32m---> 84\u001b[0;31m     \u001b[0mcheck_consistent_length\u001b[0m\u001b[0;34m(\u001b[0m\u001b[0my_true\u001b[0m\u001b[0;34m,\u001b[0m \u001b[0my_pred\u001b[0m\u001b[0;34m)\u001b[0m\u001b[0;34m\u001b[0m\u001b[0;34m\u001b[0m\u001b[0m\n\u001b[0m\u001b[1;32m     85\u001b[0m     \u001b[0my_true\u001b[0m \u001b[0;34m=\u001b[0m \u001b[0mcheck_array\u001b[0m\u001b[0;34m(\u001b[0m\u001b[0my_true\u001b[0m\u001b[0;34m,\u001b[0m \u001b[0mensure_2d\u001b[0m\u001b[0;34m=\u001b[0m\u001b[0;32mFalse\u001b[0m\u001b[0;34m,\u001b[0m \u001b[0mdtype\u001b[0m\u001b[0;34m=\u001b[0m\u001b[0mdtype\u001b[0m\u001b[0;34m)\u001b[0m\u001b[0;34m\u001b[0m\u001b[0;34m\u001b[0m\u001b[0m\n\u001b[1;32m     86\u001b[0m     \u001b[0my_pred\u001b[0m \u001b[0;34m=\u001b[0m \u001b[0mcheck_array\u001b[0m\u001b[0;34m(\u001b[0m\u001b[0my_pred\u001b[0m\u001b[0;34m,\u001b[0m \u001b[0mensure_2d\u001b[0m\u001b[0;34m=\u001b[0m\u001b[0;32mFalse\u001b[0m\u001b[0;34m,\u001b[0m \u001b[0mdtype\u001b[0m\u001b[0;34m=\u001b[0m\u001b[0mdtype\u001b[0m\u001b[0;34m)\u001b[0m\u001b[0;34m\u001b[0m\u001b[0;34m\u001b[0m\u001b[0m\n",
      "\u001b[0;32m~/anaconda3/envs/DsProject/lib/python3.8/site-packages/sklearn/utils/validation.py\u001b[0m in \u001b[0;36mcheck_consistent_length\u001b[0;34m(*arrays)\u001b[0m\n\u001b[1;32m    253\u001b[0m     \u001b[0muniques\u001b[0m \u001b[0;34m=\u001b[0m \u001b[0mnp\u001b[0m\u001b[0;34m.\u001b[0m\u001b[0munique\u001b[0m\u001b[0;34m(\u001b[0m\u001b[0mlengths\u001b[0m\u001b[0;34m)\u001b[0m\u001b[0;34m\u001b[0m\u001b[0;34m\u001b[0m\u001b[0m\n\u001b[1;32m    254\u001b[0m     \u001b[0;32mif\u001b[0m \u001b[0mlen\u001b[0m\u001b[0;34m(\u001b[0m\u001b[0muniques\u001b[0m\u001b[0;34m)\u001b[0m \u001b[0;34m>\u001b[0m \u001b[0;36m1\u001b[0m\u001b[0;34m:\u001b[0m\u001b[0;34m\u001b[0m\u001b[0;34m\u001b[0m\u001b[0m\n\u001b[0;32m--> 255\u001b[0;31m         raise ValueError(\"Found input variables with inconsistent numbers of\"\n\u001b[0m\u001b[1;32m    256\u001b[0m                          \" samples: %r\" % [int(l) for l in lengths])\n\u001b[1;32m    257\u001b[0m \u001b[0;34m\u001b[0m\u001b[0m\n",
      "\u001b[0;31mValueError\u001b[0m: Found input variables with inconsistent numbers of samples: [293400, 7]"
     ]
    }
   ],
   "source": [
    "study = optuna.create_study(direction=\"minimize\", sampler=optuna.samplers.TPESampler(seed=42))\n",
    "study.optimize(objective, n_trials=15)"
   ]
  },
  {
   "cell_type": "code",
   "execution_count": null,
   "id": "85853a17",
   "metadata": {},
   "outputs": [],
   "source": [
    "prophet_params = {}\n",
    "prophet_params[\"growth\"] = \"logistic\"\n",
    "prophet_params[\"seasonality_mode\"] = \"additive\"\n",
    "prophet_params[\"weekly_seasonality\"] = True\n",
    "prophet_params[\"daily_seasonality\"] = True\n",
    "prophet_params[\"yearly_seasonality\"] = False\n",
    "m = Prophet(**prophet_params)"
   ]
  },
  {
   "cell_type": "code",
   "execution_count": null,
   "id": "2286be7a",
   "metadata": {},
   "outputs": [],
   "source": [
    "train['cap'] = cap\n",
    "train['floor'] = floor\n",
    "\n",
    "m.fit(train)\n",
    "\n",
    "future = m.make_future_dataframe(periods=24, freq=\"m\")\n",
    "future['cap'] = cap\n",
    "future['floor'] = floor"
   ]
  },
  {
   "cell_type": "code",
   "execution_count": null,
   "id": "e3262a1f",
   "metadata": {
    "scrolled": true
   },
   "outputs": [],
   "source": [
    "forecast = m.predict(future)\n",
    "forecast_plot = m.plot(forecast)"
   ]
  },
  {
   "cell_type": "code",
   "execution_count": null,
   "id": "8c857b4c",
   "metadata": {},
   "outputs": [],
   "source": [
    "cap = np.max(df.y)\n",
    "floor = np.min(df.y)"
   ]
  },
  {
   "cell_type": "code",
   "execution_count": null,
   "id": "663e6510",
   "metadata": {
    "scrolled": true
   },
   "outputs": [],
   "source": [
    "df['cap'] = cap\n",
    "df['floor'] = floor\n",
    "\n",
    "m = Prophet(**prophet_params)\n",
    "m.fit(df)"
   ]
  },
  {
   "cell_type": "code",
   "execution_count": null,
   "id": "49d38272",
   "metadata": {},
   "outputs": [],
   "source": [
    "future = m.make_future_dataframe(periods=7, freq=\"d\")\n",
    "future['cap'] = cap\n",
    "future['floor'] = floor\n",
    "forecast1 = m.predict(future)\n",
    "fig1 = m.plot(forecast1)"
   ]
  },
  {
   "cell_type": "code",
   "execution_count": null,
   "id": "002f63ea",
   "metadata": {
    "scrolled": false
   },
   "outputs": [],
   "source": [
    "m.plot_components(forecast1)"
   ]
  }
 ],
 "metadata": {
  "kernelspec": {
   "display_name": "Python 3",
   "language": "python",
   "name": "python3"
  },
  "language_info": {
   "codemirror_mode": {
    "name": "ipython",
    "version": 3
   },
   "file_extension": ".py",
   "mimetype": "text/x-python",
   "name": "python",
   "nbconvert_exporter": "python",
   "pygments_lexer": "ipython3",
   "version": "3.8.5"
  }
 },
 "nbformat": 4,
 "nbformat_minor": 5
}
