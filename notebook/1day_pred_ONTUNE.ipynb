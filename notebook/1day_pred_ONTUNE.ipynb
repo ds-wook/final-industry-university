{
 "cells": [
  {
   "cell_type": "code",
   "execution_count": 1,
   "metadata": {},
   "outputs": [],
   "source": [
    "# %%\n",
    "import os\n",
    "import glob\n",
    "import pandas as pd\n",
    "from sklearn import preprocessing\n",
    "import numpy as np\n",
    "import matplotlib.pyplot as plt\n",
    "import seaborn as sns\n",
    "from pandas import concat"
   ]
  },
  {
   "cell_type": "code",
   "execution_count": 2,
   "metadata": {},
   "outputs": [
    {
     "data": {
      "text/html": [
       "<div>\n",
       "<style scoped>\n",
       "    .dataframe tbody tr th:only-of-type {\n",
       "        vertical-align: middle;\n",
       "    }\n",
       "\n",
       "    .dataframe tbody tr th {\n",
       "        vertical-align: top;\n",
       "    }\n",
       "\n",
       "    .dataframe thead th {\n",
       "        text-align: right;\n",
       "    }\n",
       "</style>\n",
       "<table border=\"1\" class=\"dataframe\">\n",
       "  <thead>\n",
       "    <tr style=\"text-align: right;\">\n",
       "      <th></th>\n",
       "      <th>Unnamed: 0</th>\n",
       "      <th>date</th>\n",
       "      <th>value</th>\n",
       "      <th>new_Date</th>\n",
       "    </tr>\n",
       "  </thead>\n",
       "  <tbody>\n",
       "    <tr>\n",
       "      <th>0</th>\n",
       "      <td>0</td>\n",
       "      <td>2020-03-28 09:00:00</td>\n",
       "      <td>16</td>\n",
       "      <td>2020-03-28 09:00:00</td>\n",
       "    </tr>\n",
       "    <tr>\n",
       "      <th>1</th>\n",
       "      <td>1</td>\n",
       "      <td>2020-03-28 09:10:00</td>\n",
       "      <td>9</td>\n",
       "      <td>2020-03-28 09:10:00</td>\n",
       "    </tr>\n",
       "    <tr>\n",
       "      <th>2</th>\n",
       "      <td>2</td>\n",
       "      <td>2020-03-28 09:20:00</td>\n",
       "      <td>9</td>\n",
       "      <td>2020-03-28 09:20:00</td>\n",
       "    </tr>\n",
       "    <tr>\n",
       "      <th>3</th>\n",
       "      <td>3</td>\n",
       "      <td>2020-03-28 09:30:00</td>\n",
       "      <td>9</td>\n",
       "      <td>2020-03-28 09:30:00</td>\n",
       "    </tr>\n",
       "    <tr>\n",
       "      <th>4</th>\n",
       "      <td>4</td>\n",
       "      <td>2020-03-28 09:40:00</td>\n",
       "      <td>9</td>\n",
       "      <td>2020-03-28 09:40:00</td>\n",
       "    </tr>\n",
       "  </tbody>\n",
       "</table>\n",
       "</div>"
      ],
      "text/plain": [
       "   Unnamed: 0                 date  value            new_Date\n",
       "0           0  2020-03-28 09:00:00     16 2020-03-28 09:00:00\n",
       "1           1  2020-03-28 09:10:00      9 2020-03-28 09:10:00\n",
       "2           2  2020-03-28 09:20:00      9 2020-03-28 09:20:00\n",
       "3           3  2020-03-28 09:30:00      9 2020-03-28 09:30:00\n",
       "4           4  2020-03-28 09:40:00      9 2020-03-28 09:40:00"
      ]
     },
     "execution_count": 2,
     "metadata": {},
     "output_type": "execute_result"
    }
   ],
   "source": [
    "#%%\n",
    "df=pd.read_csv('C:/workspace_python/study/data_plus/10min/ONTUNE2016.csv')\n",
    "df['new_Date']=pd.to_datetime(df['date'])\n",
    "df.head()\n"
   ]
  },
  {
   "cell_type": "code",
   "execution_count": 3,
   "metadata": {},
   "outputs": [
    {
     "data": {
      "text/html": [
       "<div>\n",
       "<style scoped>\n",
       "    .dataframe tbody tr th:only-of-type {\n",
       "        vertical-align: middle;\n",
       "    }\n",
       "\n",
       "    .dataframe tbody tr th {\n",
       "        vertical-align: top;\n",
       "    }\n",
       "\n",
       "    .dataframe thead th {\n",
       "        text-align: right;\n",
       "    }\n",
       "</style>\n",
       "<table border=\"1\" class=\"dataframe\">\n",
       "  <thead>\n",
       "    <tr style=\"text-align: right;\">\n",
       "      <th></th>\n",
       "      <th>value</th>\n",
       "    </tr>\n",
       "    <tr>\n",
       "      <th>new_Date</th>\n",
       "      <th></th>\n",
       "    </tr>\n",
       "  </thead>\n",
       "  <tbody>\n",
       "    <tr>\n",
       "      <th>2020-03-28 09:00:00</th>\n",
       "      <td>16</td>\n",
       "    </tr>\n",
       "    <tr>\n",
       "      <th>2020-03-28 09:10:00</th>\n",
       "      <td>9</td>\n",
       "    </tr>\n",
       "    <tr>\n",
       "      <th>2020-03-28 09:20:00</th>\n",
       "      <td>9</td>\n",
       "    </tr>\n",
       "    <tr>\n",
       "      <th>2020-03-28 09:30:00</th>\n",
       "      <td>9</td>\n",
       "    </tr>\n",
       "    <tr>\n",
       "      <th>2020-03-28 09:40:00</th>\n",
       "      <td>9</td>\n",
       "    </tr>\n",
       "  </tbody>\n",
       "</table>\n",
       "</div>"
      ],
      "text/plain": [
       "                     value\n",
       "new_Date                  \n",
       "2020-03-28 09:00:00     16\n",
       "2020-03-28 09:10:00      9\n",
       "2020-03-28 09:20:00      9\n",
       "2020-03-28 09:30:00      9\n",
       "2020-03-28 09:40:00      9"
      ]
     },
     "execution_count": 3,
     "metadata": {},
     "output_type": "execute_result"
    }
   ],
   "source": [
    "\n",
    "New=df[['value']]  #시간과 real_free 만 뽑아서 새로운 데이터 프레임\n",
    "New.index=df['new_Date']\n",
    "New.head()"
   ]
  },
  {
   "cell_type": "code",
   "execution_count": 4,
   "metadata": {},
   "outputs": [],
   "source": [
    "#스케일링 하는 함수 생성\n",
    "def series_to_superised(data,n_in=1,n_out=1,dropnan=True):\n",
    "    n_vars=1 if type(data) is list else data.shape[1]\n",
    "    df=pd.DataFrame(data)\n",
    "    cols,names=list(),list()\n",
    "  \n",
    "    for i in range(n_in,0,-1):\n",
    "        cols.append(df.shift(i))\n",
    "        names +=[('var%d(t-%d)' % (j+1,i)) for j in range(n_vars)]\n",
    "\n",
    "    for i in range(0,n_out):\n",
    "        cols.append(df.shift(-i))\n",
    "        if i==0:\n",
    "            names+=[('var%d(t)' %(j+1)) for j in range(n_vars)]\n",
    "        else:\n",
    "            names+=[('var%d(t+%d)'%(j+1,i)) for j in range(n_vars)]\n",
    "  \n",
    "    agg=concat(cols,axis=1)\n",
    "    agg.columns=names\n",
    "\n",
    "    if dropnan:\n",
    "        agg.dropna(inplace=True)\n",
    "  \n",
    "    return agg"
   ]
  },
  {
   "cell_type": "code",
   "execution_count": 5,
   "metadata": {},
   "outputs": [],
   "source": [
    "#주어진 데이터 정규화, 스케일링\n",
    "values = globals()['New'].values\n",
    "values_1 = values.reshape(-1,1)\n",
    "\n",
    "#minmax scale\n",
    "from sklearn.preprocessing import MinMaxScaler\n",
    "scaler = MinMaxScaler(feature_range=(0, 1))\n",
    "scaled = scaler.fit_transform(values_1)\n",
    "\n",
    "#300개의 이전 데이터로 144개의 데이터 예측->1일치 데이터 예측\n",
    "a=300\n",
    "b=144\n",
    "\n",
    "reframed = series_to_superised(scaled, a, b)\n",
    "values_2 = reframed.values\n"
   ]
  },
  {
   "cell_type": "code",
   "execution_count": 6,
   "metadata": {},
   "outputs": [
    {
     "name": "stdout",
     "output_type": "stream",
     "text": [
      "(46408, 1, 300) (46408, 144) (5157, 1, 300) (5157, 144)\n"
     ]
    }
   ],
   "source": [
    "#train 데이터, test 데이터 분리\n",
    "n_train_days = int(values_2.shape[0] * 0.9)\n",
    "train = values_2[:n_train_days, :]\n",
    "test = values_2[n_train_days:, :]\n",
    "# split into input and outputs\n",
    "train_X, train_y = train[:, :-b], train[:, -b:]\n",
    "test_X, test_y = test[:, :-b], test[:, -b:]\n",
    "# reshape input to be 3D [samples, timesteps, features]\n",
    "train_X = train_X.reshape((train_X.shape[0], 1, train_X.shape[1]))\n",
    "test_X = test_X.reshape((test_X.shape[0], 1, test_X.shape[1]))\n",
    "print(train_X.shape, train_y.shape, test_X.shape, test_y.shape)\n"
   ]
  },
  {
   "cell_type": "code",
   "execution_count": 7,
   "metadata": {},
   "outputs": [
    {
     "name": "stdout",
     "output_type": "stream",
     "text": [
      "Epoch 1/10\n",
      "726/726 [==============================] - 41s 33ms/step - loss: 0.0516 - val_loss: 0.0442\n",
      "Epoch 2/10\n",
      "726/726 [==============================] - 10s 13ms/step - loss: 0.0472 - val_loss: 0.0271\n",
      "Epoch 3/10\n",
      "726/726 [==============================] - 9s 12ms/step - loss: 0.0409 - val_loss: 0.0370s \n",
      "Epoch 4/10\n",
      "726/726 [==============================] - 9s 12ms/step - loss: 0.0394 - val_loss: 0.0336\n",
      "Epoch 5/10\n",
      "726/726 [==============================] - 9s 13ms/step - loss: 0.0382 - val_loss: 0.0362\n",
      "Epoch 6/10\n",
      "726/726 [==============================] - 10s 13ms/step - loss: 0.0378 - val_loss: 0.0379\n",
      "Epoch 7/10\n",
      "726/726 [==============================] - 10s 14ms/step - loss: 0.0370 - val_loss: 0.0416\n",
      "Epoch 8/10\n",
      "726/726 [==============================] - 9s 13ms/step - loss: 0.0377 - val_loss: 0.0395\n",
      "Epoch 9/10\n",
      "726/726 [==============================] - 10s 14ms/step - loss: 0.0375 - val_loss: 0.0370\n",
      "Epoch 10/10\n",
      "726/726 [==============================] - 9s 12ms/step - loss: 0.0360 - val_loss: 0.0361\n"
     ]
    }
   ],
   "source": [
    "#lstm 모델 생성\n",
    "from keras.layers import LSTM \n",
    "from keras.models import Sequential \n",
    "from keras.layers import Dense \n",
    "import keras.backend as K \n",
    "from keras.callbacks import EarlyStopping\n",
    "\n",
    "model = Sequential()\n",
    "model.add(LSTM(128,return_sequences=True, input_shape=(train_X.shape[1], train_X.shape[2])))\n",
    "model.add(LSTM(128,return_sequences=False))\n",
    "#model.add(Dense(50,activation='relu'))\n",
    "#model.add(Dense(16,activation='relu'))\n",
    "model.add(Dense(b))\n",
    "model.compile(loss='mae', optimizer='adam')\n",
    "# fit network\n",
    "history = model.fit(train_X, train_y, epochs=10, batch_size=64, validation_data=(test_X, test_y), verbose=1, shuffle=False)\n"
   ]
  },
  {
   "cell_type": "code",
   "execution_count": 8,
   "metadata": {},
   "outputs": [
    {
     "data": {
      "image/png": "[encoded data removed]",
      "text/plain": [
       "<Figure size 432x288 with 1 Axes>"
      ]
     },
     "metadata": {
      "needs_background": "light"
     },
     "output_type": "display_data"
    }
   ],
   "source": [
    "# plot history 그리기\n",
    "plt.plot(history.history['loss'], label='train')\n",
    "plt.plot(history.history['val_loss'], label='test')\n",
    "plt.legend()\n",
    "plt.show()"
   ]
  },
  {
   "cell_type": "code",
   "execution_count": 9,
   "metadata": {},
   "outputs": [],
   "source": [
    "#test_X 부분을 예측모델을 통해 예측\n",
    "yhat=model.predict(test_X)\n"
   ]
  },
  {
   "cell_type": "code",
   "execution_count": 10,
   "metadata": {},
   "outputs": [],
   "source": [
    "#test 부분 예측 값 중복 제거하여 정리\n",
    "y_hat=[]\n",
    "test_yf=[]\n",
    "k=len(test_X)//144\n",
    "for i in range(0,k):\n",
    "    yhat3 = np.array(yhat[i*144]).flatten().tolist()\n",
    "    y_hat=y_hat+yhat3\n",
    "    test_y2=np.array(test_y[i*144]).flatten().tolist()\n",
    "    test_yf=test_yf+test_y2"
   ]
  },
  {
   "cell_type": "code",
   "execution_count": 11,
   "metadata": {},
   "outputs": [],
   "source": [
    "yhat2=yhat.flatten().tolist()\n",
    "y_hat_f=y_hat+yhat2[-117:]\n",
    "test_y5=test_y.flatten().tolist()\n",
    "test_y_f=test_yf+test_y5[-117:]\n"
   ]
  },
  {
   "cell_type": "code",
   "execution_count": 12,
   "metadata": {},
   "outputs": [
    {
     "name": "stdout",
     "output_type": "stream",
     "text": [
      "RMSE: 0.2803152442875646\n"
     ]
    }
   ],
   "source": [
    "#y_hat_f, test_y_f 를 inverse 하여 원래의 값 도출하여 rmse 구함\n",
    "y_hat_f_i=np.array(y_hat_f).reshape(1,-1)\n",
    "test_y_f_i=np.array(test_y_f).reshape(1,-1)\n",
    "yhat_inver=scaler.inverse_transform(y_hat_f_i)\n",
    "test_y_inver=scaler.inverse_transform(test_y_f_i)\n",
    "\n",
    "rmse=np.sqrt(np.mean(yhat_inver-test_y_inver)**2)\n",
    "print('RMSE: '+str(rmse))"
   ]
  },
  {
   "cell_type": "code",
   "execution_count": 13,
   "metadata": {},
   "outputs": [],
   "source": [
    "#최근 데이터 300개 가져와서 정규화\n",
    "last_100_10min=New.values\n",
    "last_300_scaled=scaler.transform(New[-300:].values)\n",
    "\n",
    "#과거 300일치 데이터 붙여줌\n",
    "X_test=[]\n",
    "X_test.append(last_300_scaled)\n",
    "X_test=np.array(X_test)\n",
    "\n",
    "#모델 돌리기위해 reshape\n",
    "X_test=np.reshape(X_test,(1,1,test_X.shape[2]))\n",
    "\n",
    "#주어진 전체 데이터 이후의 1일치(144개 데이터) 예측하기\n",
    "pred_price=model.predict(X_test)\n",
    "pred_price=scaler.inverse_transform(pred_price)\n"
   ]
  },
  {
   "cell_type": "code",
   "execution_count": 14,
   "metadata": {},
   "outputs": [
    {
     "data": {
      "text/plain": [
       "[<matplotlib.lines.Line2D at 0x1b3db9c4b20>]"
      ]
     },
     "execution_count": 14,
     "metadata": {},
     "output_type": "execute_result"
    },
    {
     "data": {
      "image/png": "[encoded data removed]",
      "text/plain": [
       "<Figure size 432x288 with 1 Axes>"
      ]
     },
     "metadata": {
      "needs_background": "light"
     },
     "output_type": "display_data"
    }
   ],
   "source": [
    "#구한 미래 데이터로 그래프 그려보기\n",
    "from matplotlib import pyplot as plt\n",
    "\n",
    "#그래프 그리기위해 리스트로 변경\n",
    "pred_price2=pred_price.flatten().tolist()\n",
    "\n",
    "\n",
    "df_list=pd.DataFrame(pred_price2,columns=['value'])\n",
    "plt.plot(df_list,color='r')"
   ]
  },
  {
   "cell_type": "code",
   "execution_count": 15,
   "metadata": {},
   "outputs": [],
   "source": [
    "#예측한 값 csv 파일로 뽑기\n",
    "\n",
    "ka=pd.DataFrame(pred_price2,columns=['value'])\n",
    "ka.to_csv(\"1day_pred_ONTUNE_result.csv\")\n"
   ]
  },
  {
   "cell_type": "code",
   "execution_count": null,
   "metadata": {},
   "outputs": [],
   "source": []
  }
 ],
 "metadata": {
  "kernelspec": {
   "display_name": "Python 3",
   "language": "python",
   "name": "python3"
  },
  "language_info": {
   "codemirror_mode": {
    "name": "ipython",
    "version": 3
   },
   "file_extension": ".py",
   "mimetype": "text/x-python",
   "name": "python",
   "nbconvert_exporter": "python",
   "pygments_lexer": "ipython3",
   "version": "3.8.5"
  }
 },
 "nbformat": 4,
 "nbformat_minor": 4
}
