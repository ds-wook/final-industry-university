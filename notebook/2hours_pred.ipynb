{
 "cells": [
  {
   "cell_type": "code",
   "execution_count": 1,
   "metadata": {},
   "outputs": [],
   "source": [
    "# %%\n",
    "import os\n",
    "import glob\n",
    "import pandas as pd\n",
    "import numpy as np\n",
    "import matplotlib.pyplot as plt\n",
    "import seaborn as sns\n",
    "from pandas import concat"
   ]
  },
  {
   "cell_type": "code",
   "execution_count": 2,
   "metadata": {},
   "outputs": [
    {
     "data": {
      "text/html": [
       "<div>\n",
       "<style scoped>\n",
       "    .dataframe tbody tr th:only-of-type {\n",
       "        vertical-align: middle;\n",
       "    }\n",
       "\n",
       "    .dataframe tbody tr th {\n",
       "        vertical-align: top;\n",
       "    }\n",
       "\n",
       "    .dataframe thead th {\n",
       "        text-align: right;\n",
       "    }\n",
       "</style>\n",
       "<table border=\"1\" class=\"dataframe\">\n",
       "  <thead>\n",
       "    <tr style=\"text-align: right;\">\n",
       "      <th></th>\n",
       "      <th>Unnamed: 0</th>\n",
       "      <th>ds</th>\n",
       "      <th>y</th>\n",
       "      <th>new_Date</th>\n",
       "    </tr>\n",
       "  </thead>\n",
       "  <tbody>\n",
       "    <tr>\n",
       "      <th>0</th>\n",
       "      <td>0</td>\n",
       "      <td>2021-02-01 19:00:00</td>\n",
       "      <td>12.0</td>\n",
       "      <td>2021-02-01 19:00:00</td>\n",
       "    </tr>\n",
       "    <tr>\n",
       "      <th>1</th>\n",
       "      <td>1</td>\n",
       "      <td>2021-02-01 19:00:02</td>\n",
       "      <td>7.0</td>\n",
       "      <td>2021-02-01 19:00:02</td>\n",
       "    </tr>\n",
       "    <tr>\n",
       "      <th>2</th>\n",
       "      <td>2</td>\n",
       "      <td>2021-02-01 19:00:04</td>\n",
       "      <td>1.0</td>\n",
       "      <td>2021-02-01 19:00:04</td>\n",
       "    </tr>\n",
       "    <tr>\n",
       "      <th>3</th>\n",
       "      <td>3</td>\n",
       "      <td>2021-02-01 19:00:06</td>\n",
       "      <td>16.0</td>\n",
       "      <td>2021-02-01 19:00:06</td>\n",
       "    </tr>\n",
       "    <tr>\n",
       "      <th>4</th>\n",
       "      <td>4</td>\n",
       "      <td>2021-02-01 19:00:08</td>\n",
       "      <td>19.0</td>\n",
       "      <td>2021-02-01 19:00:08</td>\n",
       "    </tr>\n",
       "  </tbody>\n",
       "</table>\n",
       "</div>"
      ],
      "text/plain": [
       "   Unnamed: 0                   ds     y            new_Date\n",
       "0           0  2021-02-01 19:00:00  12.0 2021-02-01 19:00:00\n",
       "1           1  2021-02-01 19:00:02   7.0 2021-02-01 19:00:02\n",
       "2           2  2021-02-01 19:00:04   1.0 2021-02-01 19:00:04\n",
       "3           3  2021-02-01 19:00:06  16.0 2021-02-01 19:00:06\n",
       "4           4  2021-02-01 19:00:08  19.0 2021-02-01 19:00:08"
      ]
     },
     "execution_count": 2,
     "metadata": {},
     "output_type": "execute_result"
    }
   ],
   "source": [
    "df=pd.read_csv('C:/workspace_python/study/data_plus/2s/15day_0201_0215.csv')\n",
    "df['new_Date']=pd.to_datetime(df['ds'])\n",
    "df.head()\n"
   ]
  },
  {
   "cell_type": "code",
   "execution_count": 3,
   "metadata": {},
   "outputs": [
    {
     "data": {
      "text/html": [
       "<div>\n",
       "<style scoped>\n",
       "    .dataframe tbody tr th:only-of-type {\n",
       "        vertical-align: middle;\n",
       "    }\n",
       "\n",
       "    .dataframe tbody tr th {\n",
       "        vertical-align: top;\n",
       "    }\n",
       "\n",
       "    .dataframe thead th {\n",
       "        text-align: right;\n",
       "    }\n",
       "</style>\n",
       "<table border=\"1\" class=\"dataframe\">\n",
       "  <thead>\n",
       "    <tr style=\"text-align: right;\">\n",
       "      <th></th>\n",
       "      <th>y</th>\n",
       "    </tr>\n",
       "    <tr>\n",
       "      <th>new_Date</th>\n",
       "      <th></th>\n",
       "    </tr>\n",
       "  </thead>\n",
       "  <tbody>\n",
       "    <tr>\n",
       "      <th>2021-02-01 19:00:00</th>\n",
       "      <td>12.0</td>\n",
       "    </tr>\n",
       "    <tr>\n",
       "      <th>2021-02-01 19:00:02</th>\n",
       "      <td>7.0</td>\n",
       "    </tr>\n",
       "    <tr>\n",
       "      <th>2021-02-01 19:00:04</th>\n",
       "      <td>1.0</td>\n",
       "    </tr>\n",
       "    <tr>\n",
       "      <th>2021-02-01 19:00:06</th>\n",
       "      <td>16.0</td>\n",
       "    </tr>\n",
       "    <tr>\n",
       "      <th>2021-02-01 19:00:08</th>\n",
       "      <td>19.0</td>\n",
       "    </tr>\n",
       "  </tbody>\n",
       "</table>\n",
       "</div>"
      ],
      "text/plain": [
       "                        y\n",
       "new_Date                 \n",
       "2021-02-01 19:00:00  12.0\n",
       "2021-02-01 19:00:02   7.0\n",
       "2021-02-01 19:00:04   1.0\n",
       "2021-02-01 19:00:06  16.0\n",
       "2021-02-01 19:00:08  19.0"
      ]
     },
     "execution_count": 3,
     "metadata": {},
     "output_type": "execute_result"
    }
   ],
   "source": [
    "New=df[['y']]  #시간과 real_free 만 뽑아서 새로운 데이터 프레임\n",
    "New.index=df['new_Date']\n",
    "New.head()"
   ]
  },
  {
   "cell_type": "code",
   "execution_count": 4,
   "metadata": {},
   "outputs": [
    {
     "name": "stdout",
     "output_type": "stream",
     "text": [
      "                        y\n",
      "new_Date                 \n",
      "2021-02-01 19:00:00  12.0\n",
      "2021-02-01 19:01:00   3.0\n",
      "2021-02-01 19:02:00   1.0\n",
      "2021-02-01 19:03:00   0.0\n",
      "2021-02-01 19:04:00   0.0\n",
      "...                   ...\n",
      "2021-02-16 18:55:00   0.0\n",
      "2021-02-16 18:56:00   1.0\n",
      "2021-02-16 18:57:00   5.0\n",
      "2021-02-16 18:58:00  19.0\n",
      "2021-02-16 18:59:00  19.0\n",
      "\n",
      "[21600 rows x 1 columns]\n"
     ]
    }
   ],
   "source": [
    "min=New.resample('1T').first()\n",
    "print(min)\n"
   ]
  },
  {
   "cell_type": "code",
   "execution_count": 5,
   "metadata": {},
   "outputs": [],
   "source": [
    "#스케일링 하는 함수 생성\n",
    "def series_to_superised(data,n_in=1,n_out=1,dropnan=True):\n",
    "    n_vars=1 if type(data) is list else data.shape[1]\n",
    "    df=pd.DataFrame(data)\n",
    "    cols,names=list(),list()\n",
    "  \n",
    "    for i in range(n_in,0,-1):\n",
    "        cols.append(df.shift(i))\n",
    "        names +=[('var%d(t-%d)' % (j+1,i)) for j in range(n_vars)]\n",
    "\n",
    "    for i in range(0,n_out):\n",
    "        cols.append(df.shift(-i))\n",
    "        if i==0:\n",
    "            names+=[('var%d(t)' %(j+1)) for j in range(n_vars)]\n",
    "        else:\n",
    "            names+=[('var%d(t+%d)'%(j+1,i)) for j in range(n_vars)]\n",
    "  \n",
    "    agg=concat(cols,axis=1)\n",
    "    agg.columns=names\n",
    "\n",
    "    if dropnan:\n",
    "        agg.dropna(inplace=True)\n",
    "  \n",
    "    return agg"
   ]
  },
  {
   "cell_type": "code",
   "execution_count": 6,
   "metadata": {},
   "outputs": [],
   "source": [
    "#주어진 데이터 정규화, 스케일링\n",
    "values = globals()['min'].values\n",
    "values_1 = values.reshape(-1,1)\n",
    "\n",
    "#minmax scale\n",
    "from sklearn.preprocessing import MinMaxScaler\n",
    "scaler = MinMaxScaler(feature_range=(0, 1))\n",
    "scaled = scaler.fit_transform(values_1)\n",
    "\n",
    "#250개의 이전 데이터로 120개의 데이터 예측->2시간치 데이터 예측\n",
    "a=250\n",
    "b=120\n",
    "\n",
    "reframed = series_to_superised(scaled, a, b)\n",
    "values_2 = reframed.values"
   ]
  },
  {
   "cell_type": "code",
   "execution_count": 7,
   "metadata": {},
   "outputs": [
    {
     "name": "stdout",
     "output_type": "stream",
     "text": [
      "(19107, 1, 250) (19107, 120) (2124, 1, 250) (2124, 120)\n"
     ]
    }
   ],
   "source": [
    "#train 데이터, test 데이터 분리\n",
    "n_train_days = int(values_2.shape[0] * 0.9)\n",
    "train = values_2[:n_train_days, :]\n",
    "test = values_2[n_train_days:, :]\n",
    "# split into input and outputs\n",
    "train_X, train_y = train[:, :-b], train[:, -b:]\n",
    "test_X, test_y = test[:, :-b], test[:, -b:]\n",
    "# reshape input to be 3D [samples, timesteps, features]\n",
    "train_X = train_X.reshape((train_X.shape[0], 1, train_X.shape[1]))\n",
    "test_X = test_X.reshape((test_X.shape[0], 1, test_X.shape[1]))\n",
    "print(train_X.shape, train_y.shape, test_X.shape, test_y.shape)\n"
   ]
  },
  {
   "cell_type": "code",
   "execution_count": 8,
   "metadata": {},
   "outputs": [
    {
     "name": "stdout",
     "output_type": "stream",
     "text": [
      "Epoch 1/10\n",
      "299/299 [==============================] - 27s 37ms/step - loss: 0.1271 - val_loss: 0.1332\n",
      "Epoch 2/10\n",
      "299/299 [==============================] - 4s 13ms/step - loss: 0.1194 - val_loss: 0.1296\n",
      "Epoch 3/10\n",
      "299/299 [==============================] - 5s 17ms/step - loss: 0.1182 - val_loss: 0.1274\n",
      "Epoch 4/10\n",
      "299/299 [==============================] - 6s 22ms/step - loss: 0.1173 - val_loss: 0.1265\n",
      "Epoch 5/10\n",
      "299/299 [==============================] - 6s 20ms/step - loss: 0.1166 - val_loss: 0.1257\n",
      "Epoch 6/10\n",
      "299/299 [==============================] - 6s 21ms/step - loss: 0.1159 - val_loss: 0.1252\n",
      "Epoch 7/10\n",
      "299/299 [==============================] - 6s 21ms/step - loss: 0.1153 - val_loss: 0.1249\n",
      "Epoch 8/10\n",
      "299/299 [==============================] - 5s 16ms/step - loss: 0.1148 - val_loss: 0.1247\n",
      "Epoch 9/10\n",
      "299/299 [==============================] - 5s 15ms/step - loss: 0.1143 - val_loss: 0.1245\n",
      "Epoch 10/10\n",
      "299/299 [==============================] - 5s 16ms/step - loss: 0.1140 - val_loss: 0.1243\n"
     ]
    }
   ],
   "source": [
    "#lstm 모델 생성\n",
    "from keras.layers import LSTM \n",
    "from keras.models import Sequential \n",
    "from keras.layers import Dense \n",
    "import keras.backend as K \n",
    "from keras.callbacks import EarlyStopping\n",
    "\n",
    "model = Sequential()\n",
    "model.add(LSTM(128,return_sequences=True, input_shape=(train_X.shape[1], train_X.shape[2])))\n",
    "model.add(LSTM(128,return_sequences=False))\n",
    "model.add(Dense(b))\n",
    "model.compile(loss='mae', optimizer='adam')\n",
    "\n",
    "# fit network\n",
    "history = model.fit(train_X, train_y, epochs=10, batch_size=64, validation_data=(test_X, test_y), verbose=1, shuffle=False)\n",
    "\n"
   ]
  },
  {
   "cell_type": "code",
   "execution_count": 9,
   "metadata": {},
   "outputs": [
    {
     "data": {
      "image/png": "[encoded data removed]",
      "text/plain": [
       "<Figure size 432x288 with 1 Axes>"
      ]
     },
     "metadata": {
      "needs_background": "light"
     },
     "output_type": "display_data"
    }
   ],
   "source": [
    "# plot history 그리기\n",
    "plt.plot(history.history['loss'], label='train')\n",
    "plt.plot(history.history['val_loss'], label='test')\n",
    "plt.legend()\n",
    "plt.show()"
   ]
  },
  {
   "cell_type": "code",
   "execution_count": 10,
   "metadata": {},
   "outputs": [],
   "source": [
    "#test_X 부분을 예측모델을 통해 예측\n",
    "yhat=model.predict(test_X)"
   ]
  },
  {
   "cell_type": "code",
   "execution_count": 11,
   "metadata": {},
   "outputs": [],
   "source": [
    "#test 부분 예측 값 중복 제거하여 정리\n",
    "y_hat=[]\n",
    "test_yf=[]\n",
    "k=len(test_X)//120\n",
    "for i in range(0,k):\n",
    "    yhat3 = np.array(yhat[i*120]).flatten().tolist()\n",
    "    y_hat=y_hat+yhat3\n",
    "    test_y2=np.array(test_y[i*120]).flatten().tolist()\n",
    "    test_yf=test_yf+test_y2"
   ]
  },
  {
   "cell_type": "code",
   "execution_count": 12,
   "metadata": {},
   "outputs": [],
   "source": [
    "yhat2=yhat.flatten().tolist()\n",
    "y_hat_f=y_hat+yhat2[-84:]\n",
    "test_y5=test_y.flatten().tolist()\n",
    "test_y_f=test_yf+test_y5[-84:]\n"
   ]
  },
  {
   "cell_type": "code",
   "execution_count": 13,
   "metadata": {},
   "outputs": [
    {
     "name": "stdout",
     "output_type": "stream",
     "text": [
      "RMSE: 4.137315123425911\n"
     ]
    }
   ],
   "source": [
    "#y_hat_f, test_y_f 를 inverse 하여 원래의 값 도출하여 rmse 구함\n",
    "y_hat_f_i=np.array(y_hat_f).reshape(1,-1)\n",
    "test_y_f_i=np.array(test_y_f).reshape(1,-1)\n",
    "yhat_inver=scaler.inverse_transform(y_hat_f_i)\n",
    "test_y_inver=scaler.inverse_transform(test_y_f_i)\n",
    "\n",
    "rmse=np.sqrt(np.mean(yhat_inver-test_y_inver)**2)\n",
    "print('RMSE: '+str(rmse))\n",
    "\n"
   ]
  },
  {
   "cell_type": "code",
   "execution_count": 14,
   "metadata": {},
   "outputs": [],
   "source": [
    "#최근 데이터 300개 가져와서 정규화\n",
    "last_100_10min=New.values\n",
    "last_250_scaled=scaler.transform(New[-250:].values)\n",
    "\n",
    "#과거 300일치 데이터 붙여줌\n",
    "X_test=[]\n",
    "X_test.append(last_250_scaled)\n",
    "X_test=np.array(X_test)\n",
    "\n",
    "#모델 돌리기위해 reshape\n",
    "X_test=np.reshape(X_test,(1,1,test_X.shape[2]))\n",
    "\n",
    "#주어진 전체 데이터 이후의 1일치(144개 데이터) 예측하기\n",
    "pred_price=model.predict(X_test)\n",
    "pred_price=scaler.inverse_transform(pred_price)"
   ]
  },
  {
   "cell_type": "code",
   "execution_count": 15,
   "metadata": {},
   "outputs": [
    {
     "data": {
      "text/plain": [
       "[<matplotlib.lines.Line2D at 0x16e83387670>]"
      ]
     },
     "execution_count": 15,
     "metadata": {},
     "output_type": "execute_result"
    },
    {
     "data": {
      "image/png": "[encoded data removed]",
      "text/plain": [
       "<Figure size 432x288 with 1 Axes>"
      ]
     },
     "metadata": {
      "needs_background": "light"
     },
     "output_type": "display_data"
    }
   ],
   "source": [
    "#구한 미래 데이터로 그래프 그려보기\n",
    "from matplotlib import pyplot as plt\n",
    "\n",
    "#그래프 그리기위해 리스트로 변경\n",
    "pred_price2=pred_price.flatten().tolist()\n",
    "\n",
    "df_list=pd.DataFrame(pred_price2,columns=['y'])\n",
    "plt.plot(df_list,color='r')\n"
   ]
  },
  {
   "cell_type": "code",
   "execution_count": 16,
   "metadata": {},
   "outputs": [],
   "source": [
    "#예측한 값 csv 파일로 뽑기\n",
    "\n",
    "ka=pd.DataFrame(pred_price2,columns=['value'])\n",
    "ka.to_csv(\"2hours_pred_result.csv\")\n"
   ]
  },
  {
   "cell_type": "code",
   "execution_count": null,
   "metadata": {},
   "outputs": [],
   "source": []
  }
 ],
 "metadata": {
  "kernelspec": {
   "display_name": "Python 3",
   "language": "python",
   "name": "python3"
  },
  "language_info": {
   "codemirror_mode": {
    "name": "ipython",
    "version": 3
   },
   "file_extension": ".py",
   "mimetype": "text/x-python",
   "name": "python",
   "nbconvert_exporter": "python",
   "pygments_lexer": "ipython3",
   "version": "3.8.5"
  }
 },
 "nbformat": 4,
 "nbformat_minor": 4
}
