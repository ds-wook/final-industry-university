{
 "cells": [
  {
   "cell_type": "code",
   "execution_count": 1,
   "id": "dd70e16d",
   "metadata": {},
   "outputs": [],
   "source": [
    "import numpy as np\n",
    "import pandas as pd\n",
    "import matplotlib.pyplot as plt\n",
    "import seaborn as sns\n",
    "import optuna\n",
    "from optuna import Trial\n",
    "from neuralprophet import NeuralProphet\n",
    "from sklearn.metrics import mean_squared_error\n",
    "import warnings\n",
    "warnings.filterwarnings(\"ignore\")"
   ]
  },
  {
   "cell_type": "code",
   "execution_count": 2,
   "id": "95295cb5",
   "metadata": {},
   "outputs": [
    {
     "name": "stdout",
     "output_type": "stream",
     "text": [
      "(648000, 2)\n"
     ]
    },
    {
     "data": {
      "text/html": [
       "<div>\n",
       "<style scoped>\n",
       "    .dataframe tbody tr th:only-of-type {\n",
       "        vertical-align: middle;\n",
       "    }\n",
       "\n",
       "    .dataframe tbody tr th {\n",
       "        vertical-align: top;\n",
       "    }\n",
       "\n",
       "    .dataframe thead th {\n",
       "        text-align: right;\n",
       "    }\n",
       "</style>\n",
       "<table border=\"1\" class=\"dataframe\">\n",
       "  <thead>\n",
       "    <tr style=\"text-align: right;\">\n",
       "      <th></th>\n",
       "      <th>ds</th>\n",
       "      <th>y</th>\n",
       "    </tr>\n",
       "  </thead>\n",
       "  <tbody>\n",
       "    <tr>\n",
       "      <th>0</th>\n",
       "      <td>2021-02-01 19:00:00</td>\n",
       "      <td>12.0</td>\n",
       "    </tr>\n",
       "    <tr>\n",
       "      <th>1</th>\n",
       "      <td>2021-02-01 19:00:02</td>\n",
       "      <td>7.0</td>\n",
       "    </tr>\n",
       "    <tr>\n",
       "      <th>2</th>\n",
       "      <td>2021-02-01 19:00:04</td>\n",
       "      <td>1.0</td>\n",
       "    </tr>\n",
       "    <tr>\n",
       "      <th>3</th>\n",
       "      <td>2021-02-01 19:00:06</td>\n",
       "      <td>16.0</td>\n",
       "    </tr>\n",
       "    <tr>\n",
       "      <th>4</th>\n",
       "      <td>2021-02-01 19:00:08</td>\n",
       "      <td>19.0</td>\n",
       "    </tr>\n",
       "  </tbody>\n",
       "</table>\n",
       "</div>"
      ],
      "text/plain": [
       "                   ds     y\n",
       "0 2021-02-01 19:00:00  12.0\n",
       "1 2021-02-01 19:00:02   7.0\n",
       "2 2021-02-01 19:00:04   1.0\n",
       "3 2021-02-01 19:00:06  16.0\n",
       "4 2021-02-01 19:00:08  19.0"
      ]
     },
     "execution_count": 2,
     "metadata": {},
     "output_type": "execute_result"
    }
   ],
   "source": [
    "df = pd.read_csv(\n",
    "    \"../input/2s/15day_0201_0215.csv\", usecols=[\"ds\", \"y\"], parse_dates=[\"ds\"]\n",
    ")\n",
    "print(df.shape)\n",
    "df.head()"
   ]
  },
  {
   "cell_type": "code",
   "execution_count": 3,
   "id": "240700fc",
   "metadata": {},
   "outputs": [],
   "source": [
    "train = df[df['ds'] < '2021-2-10']\n",
    "valid = df[df['ds'] >= '2021-2-10']"
   ]
  },
  {
   "cell_type": "code",
   "execution_count": 6,
   "id": "d6f0bd8d",
   "metadata": {},
   "outputs": [],
   "source": [
    "def objective(trial: Trial) -> float:\n",
    "    params = {\n",
    "        \"epochs\": 30,\n",
    "        \"batch_size\": 64,\n",
    "        \"num_hidden_layers\": trial.suggest_int(\"num_hidden_layers\", 1, 5),\n",
    "        \"learning_rate\": trial.suggest_float(\"learning_rate\", 1e-3, 0.1),\n",
    "        \"changepoints_range\": trial.suggest_discrete_uniform(\n",
    "            \"changepoints_range\", 0.8, 0.95, 0.001\n",
    "        ),\n",
    "        \"n_changepoints\": trial.suggest_int(\"n_changepoints\", 20, 35),\n",
    "#         \"growth\": \"logistic\",\n",
    "#         \"seasonality_mode\": \"additive\",\n",
    "        \"yearly_seasonality\": False,\n",
    "        \"weekly_seasonality\": True,\n",
    "        \"daily_seasonality\": True,\n",
    "        \"loss_func\": \"MSE\",\n",
    "    }\n",
    "    # fit_model\n",
    "    m = NeuralProphet(**params)\n",
    "    m.fit(train, freq=\"2S\")\n",
    "    future = m.make_future_dataframe(train, periods=len(valid), n_historic_predictions=True)\n",
    "\n",
    "    forecast = m.predict(future)\n",
    "    valid_forecast = forecast[forecast.y.isna()]\n",
    "    val_rmse = mean_squared_error(valid_forecast.yhat1, valid.y, squared=False)\n",
    "#     val_mape = np.mean(np.abs((valid_forecast.yhat - valid.y) / valid.y)) * 100\n",
    "\n",
    "    return val_rmse"
   ]
  },
  {
   "cell_type": "code",
   "execution_count": null,
   "id": "44e0a9e9",
   "metadata": {},
   "outputs": [
    {
     "name": "stderr",
     "output_type": "stream",
     "text": [
      "\u001b[32m[I 2021-04-29 10:17:14,317]\u001b[0m A new study created in memory with name: no-name-6a1194d3-bad1-488c-a5ea-aa9ab1f23ad5\u001b[0m\n",
      "WARNING: nprophet - fit: Parts of code may break if using other than daily data.\n",
      "Epoch[30/30]: 100%|██████████| 30/30 [03:39<00:00,  7.30s/it, MSELoss=0.118, MAE=10.5, RegLoss=0]\n",
      "\u001b[32m[I 2021-04-29 10:21:01,378]\u001b[0m Trial 0 finished with value: 18.86857022053181 and parameters: {'num_hidden_layers': 2, 'learning_rate': 0.0951207163345817, 'changepoints_range': 0.91, 'n_changepoints': 29}. Best is trial 0 with value: 18.86857022053181.\u001b[0m\n",
      "WARNING: nprophet - fit: Parts of code may break if using other than daily data.\n",
      "Epoch[30/30]: 100%|██████████| 30/30 [03:33<00:00,  7.10s/it, MSELoss=0.118, MAE=10.5, RegLoss=0]\n",
      "\u001b[32m[I 2021-04-29 10:24:42,056]\u001b[0m Trial 1 finished with value: 14.534534623572231 and parameters: {'num_hidden_layers': 1, 'learning_rate': 0.016443457513284063, 'changepoints_range': 0.808, 'n_changepoints': 33}. Best is trial 1 with value: 14.534534623572231.\u001b[0m\n",
      "WARNING: nprophet - fit: Parts of code may break if using other than daily data.\n",
      "Epoch[30/30]: 100%|██████████| 30/30 [03:35<00:00,  7.19s/it, MSELoss=0.118, MAE=10.5, RegLoss=0]\n",
      "\u001b[32m[I 2021-04-29 10:28:25,753]\u001b[0m Trial 2 finished with value: 14.328533569638278 and parameters: {'num_hidden_layers': 4, 'learning_rate': 0.07109918520180851, 'changepoints_range': 0.803, 'n_changepoints': 35}. Best is trial 2 with value: 14.328533569638278.\u001b[0m\n",
      "WARNING: nprophet - fit: Parts of code may break if using other than daily data.\n",
      "Epoch[30/30]: 100%|██████████| 30/30 [03:39<00:00,  7.33s/it, MSELoss=0.118, MAE=10.5, RegLoss=0]\n",
      "\u001b[32m[I 2021-04-29 10:32:13,389]\u001b[0m Trial 3 finished with value: 14.5776700787435 and parameters: {'num_hidden_layers': 5, 'learning_rate': 0.022021571957149343, 'changepoints_range': 0.8270000000000001, 'n_changepoints': 22}. Best is trial 2 with value: 14.328533569638278.\u001b[0m\n",
      "WARNING: nprophet - fit: Parts of code may break if using other than daily data.\n",
      "Epoch[30/30]: 100%|██████████| 30/30 [03:39<00:00,  7.32s/it, MSELoss=0.118, MAE=10.5, RegLoss=0]\n",
      "\u001b[32m[I 2021-04-29 10:36:00,769]\u001b[0m Trial 4 finished with value: 14.708201147862255 and parameters: {'num_hidden_layers': 2, 'learning_rate': 0.05295088673159155, 'changepoints_range': 0.865, 'n_changepoints': 24}. Best is trial 2 with value: 14.328533569638278.\u001b[0m\n",
      "WARNING: nprophet - fit: Parts of code may break if using other than daily data.\n",
      "Epoch[30/30]: 100%|██████████| 30/30 [03:34<00:00,  7.14s/it, MSELoss=0.118, MAE=10.5, RegLoss=0]\n",
      "\u001b[32m[I 2021-04-29 10:39:43,617]\u001b[0m Trial 5 finished with value: 14.567866253280778 and parameters: {'num_hidden_layers': 4, 'learning_rate': 0.01480989220455214, 'changepoints_range': 0.8440000000000001, 'n_changepoints': 25}. Best is trial 2 with value: 14.328533569638278.\u001b[0m\n",
      "WARNING: nprophet - fit: Parts of code may break if using other than daily data.\n",
      "Epoch[30/30]: 100%|██████████| 30/30 [03:39<00:00,  7.31s/it, MSELoss=0.118, MAE=10.5, RegLoss=0]\n",
      "\u001b[32m[I 2021-04-29 10:43:31,142]\u001b[0m Trial 6 finished with value: 14.717850128348495 and parameters: {'num_hidden_layers': 3, 'learning_rate': 0.07873242017790835, 'changepoints_range': 0.8300000000000001, 'n_changepoints': 28}. Best is trial 2 with value: 14.328533569638278.\u001b[0m\n",
      "WARNING: nprophet - fit: Parts of code may break if using other than daily data.\n",
      "Epoch[22/30]:  73%|███████▎  | 22/30 [02:41<00:58,  7.33s/it, MSELoss=0.119, MAE=10.5, RegLoss=0]"
     ]
    }
   ],
   "source": [
    "study = optuna.create_study(direction=\"minimize\", sampler=optuna.samplers.TPESampler(seed=42))\n",
    "study.optimize(objective, n_trials=10)"
   ]
  },
  {
   "cell_type": "code",
   "execution_count": null,
   "id": "8b1ba33f",
   "metadata": {},
   "outputs": [],
   "source": [
    "prophet_params = study.best_params\n",
    "prophet_params[\"epochs\"] = 30\n",
    "prophet_params[\"batch_size\"] = 64\n",
    "prophet_params[\"loss_func\"] = \"MSE\"\n",
    "prophet_params[\"weekly_seasonality\"] = True\n",
    "prophet_params[\"daily_seasonality\"] = True\n",
    "prophet_params[\"yearly_seasonality\"] = False"
   ]
  },
  {
   "cell_type": "code",
   "execution_count": null,
   "id": "9fdb08eb",
   "metadata": {},
   "outputs": [],
   "source": [
    "# model = NeuralProphet() if you're using default variables below.\n",
    "model = NeuralProphet(**prophet_params)"
   ]
  },
  {
   "cell_type": "code",
   "execution_count": null,
   "id": "a4c70255",
   "metadata": {
    "scrolled": true
   },
   "outputs": [],
   "source": [
    "metrics = model.fit(train, freq=\"2S\")"
   ]
  },
  {
   "cell_type": "code",
   "execution_count": null,
   "id": "c20d0ed0",
   "metadata": {
    "scrolled": false
   },
   "outputs": [],
   "source": [
    "future = model.make_future_dataframe(train, periods=len(valid), n_historic_predictions=True)\n",
    "forecast = model.predict(future)"
   ]
  },
  {
   "cell_type": "code",
   "execution_count": null,
   "id": "5823333a",
   "metadata": {
    "scrolled": false
   },
   "outputs": [],
   "source": [
    "fig, ax = plt.subplots(figsize=(14, 10))\n",
    "model.plot(forecast, ax=ax)"
   ]
  },
  {
   "cell_type": "code",
   "execution_count": null,
   "id": "7204974d",
   "metadata": {},
   "outputs": [],
   "source": [
    "# fig_comp = m.plot_components(forecast)\n",
    "m = model.highlight_nth_step_ahead_of_each_forecast(1) # temporary workaround to plot actual AR weights\n",
    "fig_param = model.plot_parameters()"
   ]
  },
  {
   "cell_type": "code",
   "execution_count": null,
   "id": "c9bb33a1",
   "metadata": {
    "scrolled": false
   },
   "outputs": [],
   "source": [
    "fig, ax = plt.subplots(figsize=(14, 10))\n",
    "ax.plot(metrics[\"MSELoss\"], 'b', linewidth=6, label=\"Training Loss\")  \n",
    "ax.plot(metrics[\"MSELoss\"], 'r', linewidth=2, label=\"Validation Loss\")\n",
    "plt.legend()"
   ]
  },
  {
   "cell_type": "code",
   "execution_count": null,
   "id": "02d28416",
   "metadata": {},
   "outputs": [],
   "source": [
    "# # model = NeuralProphet() if you're using default variables below.\n",
    "# model = NeuralProphet(\n",
    "#     n_changepoints=5,\n",
    "#     changepoints_range=0.8,\n",
    "#     trend_reg=0,\n",
    "#     trend_reg_threshold=False,\n",
    "#     yearly_seasonality=\"auto\",\n",
    "#     weekly_seasonality=\"auto\",\n",
    "#     daily_seasonality=\"auto\",\n",
    "#     seasonality_mode=\"additive\",\n",
    "#     seasonality_reg=0,\n",
    "#     n_forecasts=1,\n",
    "#     n_lags=0,\n",
    "#     num_hidden_layers=0,\n",
    "#     d_hidden=None,     # Dimension of hidden layers of AR-Net\n",
    "#     ar_sparsity=None,  # Sparcity in the AR coefficients\n",
    "#     learning_rate=0.01,\n",
    "#     epochs=100,\n",
    "#     loss_func=\"MSE\",\n",
    "#     normalize=\"auto\",  # Type of normalization ('minmax', 'standardize', 'soft', 'off')\n",
    "#     impute_missing=True,\n",
    "#     log_level=None, # Determines the logging level of the logger object\n",
    "# )\n",
    "# metrics = model.fit(df, freq=\"D\")\n",
    "# future = model.make_future_dataframe(df, periods=7)\n",
    "# forecast = model.predict(future)"
   ]
  },
  {
   "cell_type": "code",
   "execution_count": null,
   "id": "c11e835c",
   "metadata": {},
   "outputs": [],
   "source": [
    "# fig, ax = plt.subplots(figsize=(14, 10))\n",
    "# model.plot(forecast, ax=ax)"
   ]
  }
 ],
 "metadata": {
  "kernelspec": {
   "display_name": "Python 3",
   "language": "python",
   "name": "python3"
  },
  "language_info": {
   "codemirror_mode": {
    "name": "ipython",
    "version": 3
   },
   "file_extension": ".py",
   "mimetype": "text/x-python",
   "name": "python",
   "nbconvert_exporter": "python",
   "pygments_lexer": "ipython3",
   "version": "3.8.5"
  }
 },
 "nbformat": 4,
 "nbformat_minor": 5
}
