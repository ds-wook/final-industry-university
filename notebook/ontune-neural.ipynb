{
 "cells": [
  {
   "cell_type": "code",
   "execution_count": 1,
   "id": "4681f7c0",
   "metadata": {},
   "outputs": [],
   "source": [
    "import numpy as np\n",
    "import pandas as pd\n",
    "import matplotlib.pyplot as plt\n",
    "import seaborn as sns\n",
    "import optuna\n",
    "from optuna import Trial\n",
    "from neuralprophet import NeuralProphet\n",
    "from sklearn.metrics import mean_squared_error\n",
    "import warnings\n",
    "warnings.filterwarnings(\"ignore\")"
   ]
  },
  {
   "cell_type": "markdown",
   "id": "ebbb6828",
   "metadata": {},
   "source": [
    "# 하루"
   ]
  },
  {
   "cell_type": "code",
   "execution_count": 2,
   "id": "7e111ebb",
   "metadata": {
    "scrolled": true
   },
   "outputs": [
    {
     "name": "stdout",
     "output_type": "stream",
     "text": [
      "(52008, 2)\n"
     ]
    },
    {
     "data": {
      "text/html": [
       "<div>\n",
       "<style scoped>\n",
       "    .dataframe tbody tr th:only-of-type {\n",
       "        vertical-align: middle;\n",
       "    }\n",
       "\n",
       "    .dataframe tbody tr th {\n",
       "        vertical-align: top;\n",
       "    }\n",
       "\n",
       "    .dataframe thead th {\n",
       "        text-align: right;\n",
       "    }\n",
       "</style>\n",
       "<table border=\"1\" class=\"dataframe\">\n",
       "  <thead>\n",
       "    <tr style=\"text-align: right;\">\n",
       "      <th></th>\n",
       "      <th>date</th>\n",
       "      <th>value</th>\n",
       "    </tr>\n",
       "  </thead>\n",
       "  <tbody>\n",
       "    <tr>\n",
       "      <th>0</th>\n",
       "      <td>2020-03-28 09:00:00</td>\n",
       "      <td>16</td>\n",
       "    </tr>\n",
       "    <tr>\n",
       "      <th>1</th>\n",
       "      <td>2020-03-28 09:10:00</td>\n",
       "      <td>9</td>\n",
       "    </tr>\n",
       "    <tr>\n",
       "      <th>2</th>\n",
       "      <td>2020-03-28 09:20:00</td>\n",
       "      <td>9</td>\n",
       "    </tr>\n",
       "    <tr>\n",
       "      <th>3</th>\n",
       "      <td>2020-03-28 09:30:00</td>\n",
       "      <td>9</td>\n",
       "    </tr>\n",
       "    <tr>\n",
       "      <th>4</th>\n",
       "      <td>2020-03-28 09:40:00</td>\n",
       "      <td>9</td>\n",
       "    </tr>\n",
       "  </tbody>\n",
       "</table>\n",
       "</div>"
      ],
      "text/plain": [
       "                 date  value\n",
       "0 2020-03-28 09:00:00     16\n",
       "1 2020-03-28 09:10:00      9\n",
       "2 2020-03-28 09:20:00      9\n",
       "3 2020-03-28 09:30:00      9\n",
       "4 2020-03-28 09:40:00      9"
      ]
     },
     "execution_count": 2,
     "metadata": {},
     "output_type": "execute_result"
    }
   ],
   "source": [
    "df = pd.read_csv(\n",
    "    \"../input/10min/ontune2016.csv\", usecols=[\"date\", \"value\"], parse_dates=[\"date\"]\n",
    ")\n",
    "print(df.shape)\n",
    "df.head()"
   ]
  },
  {
   "cell_type": "code",
   "execution_count": 3,
   "id": "4b34e8d4",
   "metadata": {},
   "outputs": [
    {
     "data": {
      "text/html": [
       "<div>\n",
       "<style scoped>\n",
       "    .dataframe tbody tr th:only-of-type {\n",
       "        vertical-align: middle;\n",
       "    }\n",
       "\n",
       "    .dataframe tbody tr th {\n",
       "        vertical-align: top;\n",
       "    }\n",
       "\n",
       "    .dataframe thead th {\n",
       "        text-align: right;\n",
       "    }\n",
       "</style>\n",
       "<table border=\"1\" class=\"dataframe\">\n",
       "  <thead>\n",
       "    <tr style=\"text-align: right;\">\n",
       "      <th></th>\n",
       "      <th>ds</th>\n",
       "      <th>y</th>\n",
       "    </tr>\n",
       "  </thead>\n",
       "  <tbody>\n",
       "    <tr>\n",
       "      <th>52003</th>\n",
       "      <td>2021-03-26 08:10:00</td>\n",
       "      <td>12</td>\n",
       "    </tr>\n",
       "    <tr>\n",
       "      <th>52004</th>\n",
       "      <td>2021-03-26 08:20:00</td>\n",
       "      <td>12</td>\n",
       "    </tr>\n",
       "    <tr>\n",
       "      <th>52005</th>\n",
       "      <td>2021-03-26 08:30:00</td>\n",
       "      <td>12</td>\n",
       "    </tr>\n",
       "    <tr>\n",
       "      <th>52006</th>\n",
       "      <td>2021-03-26 08:40:00</td>\n",
       "      <td>13</td>\n",
       "    </tr>\n",
       "    <tr>\n",
       "      <th>52007</th>\n",
       "      <td>2021-03-26 08:50:00</td>\n",
       "      <td>12</td>\n",
       "    </tr>\n",
       "  </tbody>\n",
       "</table>\n",
       "</div>"
      ],
      "text/plain": [
       "                       ds   y\n",
       "52003 2021-03-26 08:10:00  12\n",
       "52004 2021-03-26 08:20:00  12\n",
       "52005 2021-03-26 08:30:00  12\n",
       "52006 2021-03-26 08:40:00  13\n",
       "52007 2021-03-26 08:50:00  12"
      ]
     },
     "execution_count": 3,
     "metadata": {},
     "output_type": "execute_result"
    }
   ],
   "source": [
    "df.rename(columns={\"date\": \"ds\", \"value\": \"y\"}, inplace=True)\n",
    "df.tail()"
   ]
  },
  {
   "cell_type": "code",
   "execution_count": 4,
   "id": "01b68c88",
   "metadata": {},
   "outputs": [],
   "source": [
    "train = df.iloc[:int(df.shape[0] * 0.8)]\n",
    "valid = df.iloc[int(df.shape[0] * 0.2):]\n",
    "valid[\"days\"] = valid[\"ds\"].dt.date\n",
    "valid = valid.groupby(\"days\")[\"y\"].agg(\"mean\")"
   ]
  },
  {
   "cell_type": "code",
   "execution_count": 5,
   "id": "ae75bc45",
   "metadata": {},
   "outputs": [],
   "source": [
    "def objective(trial: Trial) -> float:\n",
    "    params = {\n",
    "        \"epochs\": trial.suggest_categorical(\"epochs\", [50, 100, 200, 300, 400, 500]),\n",
    "        \"batch_size\": 64,\n",
    "        \"num_hidden_layers\": trial.suggest_int(\"num_hidden_layers\", 0, 5),\n",
    "        \"learning_rate\": trial.suggest_float(\"learning_rate\", 1e-3, 0.1),\n",
    "        \"changepoints_range\": trial.suggest_discrete_uniform(\n",
    "            \"changepoints_range\", 0.8, 0.95, 0.001\n",
    "        ),\n",
    "        \"n_changepoints\": trial.suggest_int(\"n_changepoints\", 20, 35),\n",
    "        \"seasonality_mode\": \"additive\",\n",
    "        \"yearly_seasonality\": False,\n",
    "        \"weekly_seasonality\": True,\n",
    "        \"daily_seasonality\": True,\n",
    "        \"loss_func\": \"MSE\",\n",
    "    }\n",
    "    # fit_model\n",
    "    m = NeuralProphet(**params)\n",
    "    m.fit(train, freq=\"1D\")\n",
    "    future = m.make_future_dataframe(train, periods=len(valid), n_historic_predictions=True)\n",
    "\n",
    "    forecast = m.predict(future)\n",
    "    valid_forecast = forecast[forecast.y.isna()]\n",
    "    val_rmse = mean_squared_error(valid_forecast.yhat1, valid, squared=False)\n",
    "\n",
    "    return val_rmse"
   ]
  },
  {
   "cell_type": "code",
   "execution_count": null,
   "id": "0a334f69",
   "metadata": {},
   "outputs": [
    {
     "name": "stderr",
     "output_type": "stream",
     "text": [
      "\u001b[32m[I 2021-05-15 17:55:43,511]\u001b[0m A new study created in memory with name: no-name-8bda5cc9-f234-4d9d-b5c9-e521bb6fb511\u001b[0m\n",
      "WARNING: nprophet - fit: Parts of code may break if using other than daily data.\n",
      "Epoch[100/100]: 100%|██████████| 100/100 [01:28<00:00,  1.13it/s, MSELoss=0.0793, MAE=3.12, RegLoss=0]\n",
      "\u001b[32m[I 2021-05-15 17:57:12,274]\u001b[0m Trial 0 finished with value: 41.058655694420416 and parameters: {'epochs': 100, 'num_hidden_layers': 0, 'learning_rate': 0.08675143843171859, 'changepoints_range': 0.89, 'n_changepoints': 31}. Best is trial 0 with value: 41.058655694420416.\u001b[0m\n",
      "WARNING: nprophet - fit: Parts of code may break if using other than daily data.\n",
      "Epoch[100/100]: 100%|██████████| 100/100 [01:30<00:00,  1.10it/s, MSELoss=0.0788, MAE=3.12, RegLoss=0]\n",
      "\u001b[32m[I 2021-05-15 17:58:43,724]\u001b[0m Trial 1 finished with value: 36.34478301401968 and parameters: {'epochs': 100, 'num_hidden_layers': 1, 'learning_rate': 0.05295088673159155, 'changepoints_range': 0.865, 'n_changepoints': 24}. Best is trial 1 with value: 36.34478301401968.\u001b[0m\n",
      "WARNING: nprophet - fit: Parts of code may break if using other than daily data.\n",
      "Epoch[500/500]: 100%|██████████| 500/500 [07:28<00:00,  1.11it/s, MSELoss=0.0782, MAE=3.1, RegLoss=0] \n",
      "\u001b[32m[I 2021-05-15 18:06:12,706]\u001b[0m Trial 2 finished with value: 39.16099865344113 and parameters: {'epochs': 500, 'num_hidden_layers': 1, 'learning_rate': 0.051909209402947555, 'changepoints_range': 0.889, 'n_changepoints': 20}. Best is trial 1 with value: 36.34478301401968.\u001b[0m\n",
      "WARNING: nprophet - fit: Parts of code may break if using other than daily data.\n",
      "Epoch[400/400]: 100%|██████████| 400/400 [06:00<00:00,  1.11it/s, MSELoss=0.0774, MAE=3.08, RegLoss=0]\n",
      "\u001b[32m[I 2021-05-15 18:12:13,294]\u001b[0m Trial 3 finished with value: 41.35363540138011 and parameters: {'epochs': 400, 'num_hidden_layers': 1, 'learning_rate': 0.010669539286632005, 'changepoints_range': 0.903, 'n_changepoints': 27}. Best is trial 1 with value: 36.34478301401968.\u001b[0m\n",
      "WARNING: nprophet - fit: Parts of code may break if using other than daily data.\n",
      "Epoch[300/300]: 100%|██████████| 300/300 [04:26<00:00,  1.13it/s, MSELoss=0.0803, MAE=3.14, RegLoss=0]\n",
      "\u001b[32m[I 2021-05-15 18:16:40,538]\u001b[0m Trial 4 finished with value: 38.54896165823866 and parameters: {'epochs': 300, 'num_hidden_layers': 1, 'learning_rate': 0.052486734096603274, 'changepoints_range': 0.882, 'n_changepoints': 22}. Best is trial 1 with value: 36.34478301401968.\u001b[0m\n",
      "WARNING: nprophet - fit: Parts of code may break if using other than daily data.\n",
      "Epoch[50/50]: 100%|██████████| 50/50 [00:43<00:00,  1.15it/s, MSELoss=0.0812, MAE=3.22, RegLoss=0]\n",
      "\u001b[32m[I 2021-05-15 18:17:24,793]\u001b[0m Trial 5 finished with value: 21.981240081757452 and parameters: {'epochs': 50, 'num_hidden_layers': 0, 'learning_rate': 0.020402303379495376, 'changepoints_range': 0.806, 'n_changepoints': 25}. Best is trial 5 with value: 21.981240081757452.\u001b[0m\n",
      "WARNING: nprophet - fit: Parts of code may break if using other than daily data.\n",
      "Epoch[200/200]: 100%|██████████| 200/200 [02:55<00:00,  1.14it/s, MSELoss=0.0779, MAE=3.12, RegLoss=0]\n",
      "\u001b[32m[I 2021-05-15 18:20:20,721]\u001b[0m Trial 6 finished with value: 25.81233352705452 and parameters: {'epochs': 200, 'num_hidden_layers': 0, 'learning_rate': 0.08041750109464993, 'changepoints_range': 0.811, 'n_changepoints': 35}. Best is trial 5 with value: 21.981240081757452.\u001b[0m\n",
      "WARNING: nprophet - fit: Parts of code may break if using other than daily data.\n",
      "Epoch[300/300]: 100%|██████████| 300/300 [05:06<00:00,  1.02s/it, MSELoss=0.0796, MAE=3.15, RegLoss=0]\n",
      "\u001b[32m[I 2021-05-15 18:25:28,441]\u001b[0m Trial 7 finished with value: 32.959195308811246 and parameters: {'epochs': 300, 'num_hidden_layers': 4, 'learning_rate': 0.008330420521674946, 'changepoints_range': 0.8540000000000001, 'n_changepoints': 21}. Best is trial 5 with value: 21.981240081757452.\u001b[0m\n",
      "WARNING: nprophet - fit: Parts of code may break if using other than daily data.\n",
      "Epoch[50/50]: 100%|██████████| 50/50 [01:02<00:00,  1.26s/it, MSELoss=0.0798, MAE=3.13, RegLoss=0]\n",
      "\u001b[32m[I 2021-05-15 18:26:32,203]\u001b[0m Trial 8 finished with value: 36.93875624976263 and parameters: {'epochs': 50, 'num_hidden_layers': 4, 'learning_rate': 0.0641181896641661, 'changepoints_range': 0.933, 'n_changepoints': 27}. Best is trial 5 with value: 21.981240081757452.\u001b[0m\n",
      "WARNING: nprophet - fit: Parts of code may break if using other than daily data.\n",
      "Epoch[400/400]: 100%|██████████| 400/400 [08:12<00:00,  1.23s/it, MSELoss=0.08, MAE=3.25, RegLoss=0]  \n",
      "\u001b[32m[I 2021-05-15 18:34:45,772]\u001b[0m Trial 9 finished with value: 20.68509903152376 and parameters: {'epochs': 400, 'num_hidden_layers': 3, 'learning_rate': 0.04332656081749642, 'changepoints_range': 0.803, 'n_changepoints': 21}. Best is trial 9 with value: 20.68509903152376.\u001b[0m\n",
      "WARNING: nprophet - fit: Parts of code may break if using other than daily data.\n",
      "Epoch[400/400]: 100%|██████████| 400/400 [08:00<00:00,  1.20s/it, MSELoss=0.0784, MAE=3.11, RegLoss=0]\n",
      "\u001b[32m[I 2021-05-15 18:42:47,611]\u001b[0m Trial 10 finished with value: 31.247941584999865 and parameters: {'epochs': 400, 'num_hidden_layers': 3, 'learning_rate': 0.033384714745660085, 'changepoints_range': 0.8340000000000001, 'n_changepoints': 31}. Best is trial 9 with value: 20.68509903152376.\u001b[0m\n",
      "WARNING: nprophet - fit: Parts of code may break if using other than daily data.\n",
      "Epoch[50/50]: 100%|██████████| 50/50 [00:58<00:00,  1.18s/it, MSELoss=0.0797, MAE=3.22, RegLoss=0]\n",
      "\u001b[32m[I 2021-05-15 18:43:47,405]\u001b[0m Trial 11 finished with value: 21.772130162235918 and parameters: {'epochs': 50, 'num_hidden_layers': 3, 'learning_rate': 0.027020162564573062, 'changepoints_range': 0.806, 'n_changepoints': 24}. Best is trial 9 with value: 20.68509903152376.\u001b[0m\n",
      "WARNING: nprophet - fit: Parts of code may break if using other than daily data.\n",
      "Epoch[50/50]: 100%|██████████| 50/50 [00:58<00:00,  1.18s/it, MSELoss=0.0816, MAE=3.25, RegLoss=0]\n",
      "\u001b[32m[I 2021-05-15 18:44:47,271]\u001b[0m Trial 12 finished with value: 20.868355905357692 and parameters: {'epochs': 50, 'num_hidden_layers': 3, 'learning_rate': 0.03145410374927028, 'changepoints_range': 0.801, 'n_changepoints': 23}. Best is trial 9 with value: 20.68509903152376.\u001b[0m\n",
      "WARNING: nprophet - fit: Parts of code may break if using other than daily data.\n",
      "Epoch[400/400]: 100%|██████████| 400/400 [07:53<00:00,  1.18s/it, MSELoss=0.0793, MAE=3.18, RegLoss=0]\n",
      "\u001b[32m[I 2021-05-15 18:52:41,169]\u001b[0m Trial 13 finished with value: 26.275763454339536 and parameters: {'epochs': 400, 'num_hidden_layers': 5, 'learning_rate': 0.03476615310939574, 'changepoints_range': 0.8330000000000001, 'n_changepoints': 20}. Best is trial 9 with value: 20.68509903152376.\u001b[0m\n",
      "WARNING: nprophet - fit: Parts of code may break if using other than daily data.\n",
      "Epoch[500/500]: 100%|██████████| 500/500 [08:16<00:00,  1.01it/s, MSELoss=0.0795, MAE=3.17, RegLoss=0]\n",
      "\u001b[32m[I 2021-05-15 19:00:58,421]\u001b[0m Trial 14 finished with value: 26.366337604011722 and parameters: {'epochs': 500, 'num_hidden_layers': 2, 'learning_rate': 0.0405540661870556, 'changepoints_range': 0.8290000000000001, 'n_changepoints': 22}. Best is trial 9 with value: 20.68509903152376.\u001b[0m\n",
      "WARNING: nprophet - fit: Parts of code may break if using other than daily data.\n",
      "Epoch[200/200]: 100%|██████████| 200/200 [02:52<00:00,  1.16it/s, MSELoss=0.0813, MAE=3.25, RegLoss=0]\n",
      "\u001b[32m[I 2021-05-15 19:03:51,428]\u001b[0m Trial 15 finished with value: 20.7707433931117 and parameters: {'epochs': 200, 'num_hidden_layers': 4, 'learning_rate': 0.01900909210099118, 'changepoints_range': 0.8, 'n_changepoints': 23}. Best is trial 9 with value: 20.68509903152376.\u001b[0m\n",
      "WARNING: nprophet - fit: Parts of code may break if using other than daily data.\n",
      "Epoch[200/200]: 100%|██████████| 200/200 [02:58<00:00,  1.12it/s, MSELoss=0.0773, MAE=3.07, RegLoss=0]\n",
      "\u001b[32m[I 2021-05-15 19:06:50,458]\u001b[0m Trial 16 finished with value: 22.400512690816115 and parameters: {'epochs': 200, 'num_hidden_layers': 5, 'learning_rate': 0.06732190511735209, 'changepoints_range': 0.9440000000000001, 'n_changepoints': 30}. Best is trial 9 with value: 20.68509903152376.\u001b[0m\n",
      "WARNING: nprophet - fit: Parts of code may break if using other than daily data.\n"
     ]
    },
    {
     "name": "stderr",
     "output_type": "stream",
     "text": [
      "Epoch[200/200]: 100%|██████████| 200/200 [02:58<00:00,  1.12it/s, MSELoss=0.0784, MAE=3.16, RegLoss=0]\n",
      "\u001b[32m[I 2021-05-15 19:09:49,531]\u001b[0m Trial 17 finished with value: 25.748310071587827 and parameters: {'epochs': 200, 'num_hidden_layers': 4, 'learning_rate': 0.01734481699393068, 'changepoints_range': 0.8200000000000001, 'n_changepoints': 26}. Best is trial 9 with value: 20.68509903152376.\u001b[0m\n",
      "WARNING: nprophet - fit: Parts of code may break if using other than daily data.\n",
      "Epoch[206/400]:  52%|█████▏    | 206/400 [03:05<02:52,  1.12it/s, MSELoss=0.0779, MAE=3.12, RegLoss=0]"
     ]
    }
   ],
   "source": [
    "study = optuna.create_study(direction=\"minimize\", sampler=optuna.samplers.TPESampler(seed=42))\n",
    "study.optimize(objective, n_trials=20)"
   ]
  },
  {
   "cell_type": "code",
   "execution_count": null,
   "id": "47370782",
   "metadata": {},
   "outputs": [],
   "source": [
    "prophet_params = study.best_params\n",
    "prophet_params[\"batch_size\"] = 64\n",
    "prophet_params[\"seasonality_mode\"] = \"additive\"\n",
    "prophet_params[\"loss_func\"] = \"MSE\"\n",
    "prophet_params[\"weekly_seasonality\"] = True\n",
    "prophet_params[\"daily_seasonality\"] = True\n",
    "prophet_params[\"yearly_seasonality\"] = False"
   ]
  },
  {
   "cell_type": "code",
   "execution_count": null,
   "id": "d8eb58eb",
   "metadata": {},
   "outputs": [],
   "source": [
    "# model = NeuralProphet() if you're using default variables below.\n",
    "model = NeuralProphet(**prophet_params)\n",
    "metrics = model.fit(train, freq=\"1D\")\n",
    "future = model.make_future_dataframe(train, periods=len(valid), n_historic_predictions=True)\n",
    "forecast = model.predict(future)"
   ]
  },
  {
   "cell_type": "code",
   "execution_count": null,
   "id": "202263d2",
   "metadata": {},
   "outputs": [],
   "source": [
    "fig, ax = plt.subplots(figsize=(14, 10))\n",
    "model.plot(forecast, ax=ax)\n",
    "plt.show()"
   ]
  },
  {
   "cell_type": "code",
   "execution_count": null,
   "id": "ab53ba2b",
   "metadata": {},
   "outputs": [],
   "source": [
    "# model = NeuralProphet() if you're using default variables below.\n",
    "model = NeuralProphet(**prophet_params)\n",
    "metrics = model.fit(df, freq=\"1D\")\n",
    "future = model.make_future_dataframe(df, periods=144, n_historic_predictions=True)\n",
    "forecast = model.predict(future)"
   ]
  },
  {
   "cell_type": "code",
   "execution_count": null,
   "id": "a2a5ad0d",
   "metadata": {},
   "outputs": [],
   "source": [
    "fig, ax = plt.subplots(figsize=(14, 10))\n",
    "model.plot(forecast, ax=ax)\n",
    "plt.show()"
   ]
  }
 ],
 "metadata": {
  "kernelspec": {
   "display_name": "Python 3",
   "language": "python",
   "name": "python3"
  },
  "language_info": {
   "codemirror_mode": {
    "name": "ipython",
    "version": 3
   },
   "file_extension": ".py",
   "mimetype": "text/x-python",
   "name": "python",
   "nbconvert_exporter": "python",
   "pygments_lexer": "ipython3",
   "version": "3.8.5"
  }
 },
 "nbformat": 4,
 "nbformat_minor": 5
}
