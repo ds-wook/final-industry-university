{
 "cells": [
  {
   "cell_type": "code",
   "execution_count": 1,
   "id": "49e890db",
   "metadata": {},
   "outputs": [],
   "source": [
    "import numpy as np\n",
    "import pandas as pd\n",
    "import matplotlib.pyplot as plt\n",
    "import seaborn as sns\n",
    "import optuna\n",
    "from optuna import Trial\n",
    "from fbprophet import Prophet\n",
    "import warnings\n",
    "from sklearn.metrics import mean_squared_error\n",
    "warnings.filterwarnings(\"ignore\")"
   ]
  },
  {
   "cell_type": "code",
   "execution_count": 2,
   "id": "ccec4c65",
   "metadata": {},
   "outputs": [
    {
     "name": "stdout",
     "output_type": "stream",
     "text": [
      "(52151, 2)\n"
     ]
    },
    {
     "data": {
      "text/html": [
       "<div>\n",
       "<style scoped>\n",
       "    .dataframe tbody tr th:only-of-type {\n",
       "        vertical-align: middle;\n",
       "    }\n",
       "\n",
       "    .dataframe tbody tr th {\n",
       "        vertical-align: top;\n",
       "    }\n",
       "\n",
       "    .dataframe thead th {\n",
       "        text-align: right;\n",
       "    }\n",
       "</style>\n",
       "<table border=\"1\" class=\"dataframe\">\n",
       "  <thead>\n",
       "    <tr style=\"text-align: right;\">\n",
       "      <th></th>\n",
       "      <th>date</th>\n",
       "      <th>value</th>\n",
       "    </tr>\n",
       "  </thead>\n",
       "  <tbody>\n",
       "    <tr>\n",
       "      <th>0</th>\n",
       "      <td>2020-02-19 09:00:00</td>\n",
       "      <td>10</td>\n",
       "    </tr>\n",
       "    <tr>\n",
       "      <th>1</th>\n",
       "      <td>2020-02-19 09:10:00</td>\n",
       "      <td>11</td>\n",
       "    </tr>\n",
       "    <tr>\n",
       "      <th>2</th>\n",
       "      <td>2020-02-19 09:20:00</td>\n",
       "      <td>11</td>\n",
       "    </tr>\n",
       "    <tr>\n",
       "      <th>3</th>\n",
       "      <td>2020-02-19 09:30:00</td>\n",
       "      <td>11</td>\n",
       "    </tr>\n",
       "    <tr>\n",
       "      <th>4</th>\n",
       "      <td>2020-02-19 09:40:00</td>\n",
       "      <td>11</td>\n",
       "    </tr>\n",
       "  </tbody>\n",
       "</table>\n",
       "</div>"
      ],
      "text/plain": [
       "                 date  value\n",
       "0 2020-02-19 09:00:00     10\n",
       "1 2020-02-19 09:10:00     11\n",
       "2 2020-02-19 09:20:00     11\n",
       "3 2020-02-19 09:30:00     11\n",
       "4 2020-02-19 09:40:00     11"
      ]
     },
     "execution_count": 2,
     "metadata": {},
     "output_type": "execute_result"
    }
   ],
   "source": [
    "df = pd.read_csv(\n",
    "    \"../input/10min/vcenter.csv\", usecols=[\"date\", \"value\"], parse_dates=[\"date\"]\n",
    ")\n",
    "print(df.shape)\n",
    "df.head()"
   ]
  },
  {
   "cell_type": "code",
   "execution_count": 3,
   "id": "04d376ab",
   "metadata": {},
   "outputs": [
    {
     "data": {
      "text/html": [
       "<div>\n",
       "<style scoped>\n",
       "    .dataframe tbody tr th:only-of-type {\n",
       "        vertical-align: middle;\n",
       "    }\n",
       "\n",
       "    .dataframe tbody tr th {\n",
       "        vertical-align: top;\n",
       "    }\n",
       "\n",
       "    .dataframe thead th {\n",
       "        text-align: right;\n",
       "    }\n",
       "</style>\n",
       "<table border=\"1\" class=\"dataframe\">\n",
       "  <thead>\n",
       "    <tr style=\"text-align: right;\">\n",
       "      <th></th>\n",
       "      <th>ds</th>\n",
       "      <th>y</th>\n",
       "    </tr>\n",
       "  </thead>\n",
       "  <tbody>\n",
       "    <tr>\n",
       "      <th>52146</th>\n",
       "      <td>2021-02-17 08:10:00</td>\n",
       "      <td>29</td>\n",
       "    </tr>\n",
       "    <tr>\n",
       "      <th>52147</th>\n",
       "      <td>2021-02-17 08:20:00</td>\n",
       "      <td>28</td>\n",
       "    </tr>\n",
       "    <tr>\n",
       "      <th>52148</th>\n",
       "      <td>2021-02-17 08:30:00</td>\n",
       "      <td>28</td>\n",
       "    </tr>\n",
       "    <tr>\n",
       "      <th>52149</th>\n",
       "      <td>2021-02-17 08:40:00</td>\n",
       "      <td>29</td>\n",
       "    </tr>\n",
       "    <tr>\n",
       "      <th>52150</th>\n",
       "      <td>2021-02-17 08:50:00</td>\n",
       "      <td>29</td>\n",
       "    </tr>\n",
       "  </tbody>\n",
       "</table>\n",
       "</div>"
      ],
      "text/plain": [
       "                       ds   y\n",
       "52146 2021-02-17 08:10:00  29\n",
       "52147 2021-02-17 08:20:00  28\n",
       "52148 2021-02-17 08:30:00  28\n",
       "52149 2021-02-17 08:40:00  29\n",
       "52150 2021-02-17 08:50:00  29"
      ]
     },
     "execution_count": 3,
     "metadata": {},
     "output_type": "execute_result"
    }
   ],
   "source": [
    "df.rename(columns={\"date\": \"ds\", \"value\": \"y\"}, inplace=True)\n",
    "df.tail()"
   ]
  },
  {
   "cell_type": "code",
   "execution_count": 4,
   "id": "894439f9",
   "metadata": {},
   "outputs": [
    {
     "name": "stdout",
     "output_type": "stream",
     "text": [
      "(51233, 2)\n",
      "(7, 2)\n"
     ]
    }
   ],
   "source": [
    "train = df[df[\"ds\"] < \"2021-02-11\"]\n",
    "valid = df[df[\"ds\"] >= \"2021-02-11\"].copy()\n",
    "valid[\"days\"] = valid[\"ds\"].apply(lambda x: x.day)\n",
    "valid = valid.groupby(\"days\")[\"y\"].agg(\"mean\").reset_index()\n",
    "print(train.shape)\n",
    "print(valid.shape)"
   ]
  },
  {
   "cell_type": "code",
   "execution_count": 5,
   "id": "ab8c6488",
   "metadata": {},
   "outputs": [],
   "source": [
    "cap = np.max(train.y)\n",
    "floor = np.min(train.y)"
   ]
  },
  {
   "cell_type": "code",
   "execution_count": 6,
   "id": "fed80393",
   "metadata": {},
   "outputs": [],
   "source": [
    "def objective(trial: Trial) -> float:\n",
    "    params = {\n",
    "        \"changepoint_range\": trial.suggest_discrete_uniform(\n",
    "            \"changepoint_range\", 0.8, 0.95, 0.001\n",
    "        ),\n",
    "        \"n_changepoints\": trial.suggest_int(\"n_changepoints\", 20, 35),\n",
    "        \"changepoint_prior_scale\": trial.suggest_discrete_uniform(\n",
    "            \"changepoint_prior_scale\", 0.001, 0.5, 0.001\n",
    "        ),\n",
    "        \"seasonality_prior_scale\": trial.suggest_discrete_uniform(\n",
    "            \"seasonality_prior_scale\", 1, 25, 0.5\n",
    "        ),\n",
    "        \"yearly_fourier\": trial.suggest_int(\"yearly_fourier\", 5, 15),\n",
    "        \"monthly_fourier\": trial.suggest_int(\"monthly_fourier\", 3, 12),\n",
    "        \"weekly_fourier\": trial.suggest_int(\"weekly_fourier\", 3, 7),\n",
    "        \"quaterly_fourier\": trial.suggest_int(\"quaterly_fourier\", 3, 10),\n",
    "        \"yearly_prior\": trial.suggest_discrete_uniform(\"yearly_prior\", 1, 25, 0.5),\n",
    "        \"monthly_prior\": trial.suggest_discrete_uniform(\"monthly_prior\", 1, 25, 0.5),\n",
    "        \"weekly_prior\": trial.suggest_discrete_uniform(\"weekly_prior\", 1, 25, 0.5),\n",
    "        \"quaterly_prior\": trial.suggest_discrete_uniform(\"quaterly_prior\", 1, 25, 0.5),\n",
    "        \"growth\": \"logistic\",\n",
    "        \"seasonality_mode\": \"additive\",\n",
    "        \"weekly_seasonality\": True,\n",
    "        \"daily_seasonality\": True,\n",
    "    }\n",
    "    # fit_model\n",
    "    m = Prophet(\n",
    "        changepoint_range=params[\"changepoint_prior_scale\"],\n",
    "        n_changepoints=params[\"n_changepoints\"],\n",
    "        changepoint_prior_scale=params[\"changepoint_prior_scale\"],\n",
    "        seasonality_prior_scale=params[\"seasonality_prior_scale\"],\n",
    "        yearly_seasonality=False,\n",
    "        weekly_seasonality=True,\n",
    "        daily_seasonality=True,\n",
    "        growth=\"logistic\",\n",
    "        seasonality_mode=\"additive\",\n",
    "    )\n",
    "    m.add_seasonality(\n",
    "        name=\"yearly\",\n",
    "        period=365.25,\n",
    "        fourier_order=params[\"yearly_fourier\"],\n",
    "        prior_scale=params[\"yearly_prior\"],\n",
    "    )\n",
    "    m.add_seasonality(\n",
    "        name=\"monthly\",\n",
    "        period=30.5,\n",
    "        fourier_order=params[\"monthly_fourier\"],\n",
    "        prior_scale=params[\"monthly_prior\"],\n",
    "    )\n",
    "    m.add_seasonality(\n",
    "        name=\"weekly\",\n",
    "        period=7,\n",
    "        fourier_order=params[\"weekly_fourier\"],\n",
    "        prior_scale=params[\"weekly_prior\"],\n",
    "    )\n",
    "    m.add_seasonality(\n",
    "        name=\"quaterly\",\n",
    "        period=365.25 / 4,\n",
    "        fourier_order=params[\"quaterly_fourier\"],\n",
    "        prior_scale=params[\"quaterly_prior\"],\n",
    "    )\n",
    "    train[\"cap\"] = cap\n",
    "    train[\"floor\"] = floor\n",
    "    m.fit(train)\n",
    "    future = m.make_future_dataframe(periods=7, freq=\"d\")\n",
    "    future[\"cap\"] = cap\n",
    "    future[\"floor\"] = floor\n",
    "\n",
    "    forecast = m.predict(future)\n",
    "    valid_forecast = forecast.tail(7)\n",
    "\n",
    "    val_mse = mean_squared_error(valid.y, valid_forecast.yhat, squared=False)\n",
    "\n",
    "    return val_mse"
   ]
  },
  {
   "cell_type": "code",
   "execution_count": null,
   "id": "25c25fd1",
   "metadata": {
    "scrolled": false
   },
   "outputs": [
    {
     "name": "stderr",
     "output_type": "stream",
     "text": [
      "\u001b[32m[I 2021-05-17 13:43:37,088]\u001b[0m A new study created in memory with name: no-name-55ed9b0a-f213-41d8-9ccc-9cf9d5739f78\u001b[0m\n",
      "\u001b[32m[I 2021-05-17 13:47:41,124]\u001b[0m Trial 0 finished with value: 2.665084898149137 and parameters: {'changepoint_range': 0.8560000000000001, 'n_changepoints': 35, 'changepoint_prior_scale': 0.366, 'seasonality_prior_scale': 15.5, 'yearly_fourier': 6, 'monthly_fourier': 4, 'weekly_fourier': 3, 'quaterly_fourier': 9, 'yearly_prior': 15.5, 'monthly_prior': 18.0, 'weekly_prior': 1.5, 'quaterly_prior': 24.5}. Best is trial 0 with value: 2.665084898149137.\u001b[0m\n",
      "\u001b[32m[I 2021-05-17 13:48:12,164]\u001b[0m Trial 1 finished with value: 4.83946360576296 and parameters: {'changepoint_range': 0.925, 'n_changepoints': 23, 'changepoint_prior_scale': 0.091, 'seasonality_prior_scale': 5.0, 'yearly_fourier': 8, 'monthly_fourier': 8, 'weekly_fourier': 5, 'quaterly_fourier': 5, 'yearly_prior': 15.5, 'monthly_prior': 4.0, 'weekly_prior': 8.0, 'quaterly_prior': 9.5}. Best is trial 0 with value: 2.665084898149137.\u001b[0m\n",
      "\u001b[32m[I 2021-05-17 13:48:51,092]\u001b[0m Trial 2 finished with value: 9.06209432835126 and parameters: {'changepoint_range': 0.8680000000000001, 'n_changepoints': 32, 'changepoint_prior_scale': 0.1, 'seasonality_prior_scale': 13.5, 'yearly_fourier': 11, 'monthly_fourier': 3, 'weekly_fourier': 6, 'quaterly_fourier': 4, 'yearly_prior': 2.5, 'monthly_prior': 24.0, 'weekly_prior': 24.5, 'quaterly_prior': 20.5}. Best is trial 0 with value: 2.665084898149137.\u001b[0m\n",
      "\u001b[32m[I 2021-05-17 13:54:26,848]\u001b[0m Trial 3 finished with value: 1.4077631601168714 and parameters: {'changepoint_range': 0.8450000000000001, 'n_changepoints': 21, 'changepoint_prior_scale': 0.343, 'seasonality_prior_scale': 11.5, 'yearly_fourier': 6, 'monthly_fourier': 7, 'weekly_fourier': 3, 'quaterly_fourier': 10, 'yearly_prior': 7.0, 'monthly_prior': 17.0, 'weekly_prior': 8.5, 'quaterly_prior': 13.5}. Best is trial 3 with value: 1.4077631601168714.\u001b[0m\n",
      "\u001b[32m[I 2021-05-17 13:55:55,943]\u001b[0m Trial 4 finished with value: 8.743358375329365 and parameters: {'changepoint_range': 0.882, 'n_changepoints': 22, 'changepoint_prior_scale': 0.485, 'seasonality_prior_scale': 19.5, 'yearly_fourier': 15, 'monthly_fourier': 11, 'weekly_fourier': 5, 'quaterly_fourier': 10, 'yearly_prior': 3.0, 'monthly_prior': 5.5, 'weekly_prior': 2.0, 'quaterly_prior': 8.5}. Best is trial 3 with value: 1.4077631601168714.\u001b[0m\n",
      "\u001b[32m[I 2021-05-17 13:57:18,291]\u001b[0m Trial 5 finished with value: 1.1077819030904053 and parameters: {'changepoint_range': 0.8580000000000001, 'n_changepoints': 24, 'changepoint_prior_scale': 0.41500000000000004, 'seasonality_prior_scale': 9.5, 'yearly_fourier': 8, 'monthly_fourier': 8, 'weekly_fourier': 3, 'quaterly_fourier': 9, 'yearly_prior': 2.5, 'monthly_prior': 25.0, 'weekly_prior': 19.5, 'quaterly_prior': 5.5}. Best is trial 5 with value: 1.1077819030904053.\u001b[0m\n",
      "\u001b[32m[I 2021-05-17 13:57:46,890]\u001b[0m Trial 6 finished with value: 3.4108370786098674 and parameters: {'changepoint_range': 0.8, 'n_changepoints': 33, 'changepoint_prior_scale': 0.354, 'seasonality_prior_scale': 18.5, 'yearly_fourier': 13, 'monthly_fourier': 3, 'weekly_fourier': 4, 'quaterly_fourier': 3, 'yearly_prior': 22.0, 'monthly_prior': 16.0, 'weekly_prior': 9.0, 'quaterly_prior': 2.5}. Best is trial 5 with value: 1.1077819030904053.\u001b[0m\n",
      "\u001b[32m[I 2021-05-17 13:58:40,127]\u001b[0m Trial 7 finished with value: 3.2059987837307857 and parameters: {'changepoint_range': 0.8460000000000001, 'n_changepoints': 25, 'changepoint_prior_scale': 0.365, 'seasonality_prior_scale': 16.5, 'yearly_fourier': 14, 'monthly_fourier': 7, 'weekly_fourier': 3, 'quaterly_fourier': 8, 'yearly_prior': 19.5, 'monthly_prior': 14.5, 'weekly_prior': 19.5, 'quaterly_prior': 13.0}. Best is trial 5 with value: 1.1077819030904053.\u001b[0m\n",
      "\u001b[32m[I 2021-05-17 13:59:17,544]\u001b[0m Trial 8 finished with value: 1.3298507558016077 and parameters: {'changepoint_range': 0.878, 'n_changepoints': 26, 'changepoint_prior_scale': 0.013000000000000001, 'seasonality_prior_scale': 3.5, 'yearly_fourier': 5, 'monthly_fourier': 9, 'weekly_fourier': 4, 'quaterly_fourier': 7, 'yearly_prior': 23.0, 'monthly_prior': 7.0, 'weekly_prior': 11.0, 'quaterly_prior': 19.5}. Best is trial 5 with value: 1.1077819030904053.\u001b[0m\n",
      "\u001b[32m[I 2021-05-17 14:00:27,394]\u001b[0m Trial 9 finished with value: 6.861716411029413 and parameters: {'changepoint_range': 0.8340000000000001, 'n_changepoints': 21, 'changepoint_prior_scale': 0.14500000000000002, 'seasonality_prior_scale': 4.5, 'yearly_fourier': 15, 'monthly_fourier': 11, 'weekly_fourier': 6, 'quaterly_fourier': 9, 'yearly_prior': 20.5, 'monthly_prior': 5.5, 'weekly_prior': 22.5, 'quaterly_prior': 14.0}. Best is trial 5 with value: 1.1077819030904053.\u001b[0m\n",
      "\u001b[32m[I 2021-05-17 14:04:40,285]\u001b[0m Trial 10 finished with value: 1.2330697349123338 and parameters: {'changepoint_range': 0.93, 'n_changepoints': 29, 'changepoint_prior_scale': 0.485, 'seasonality_prior_scale': 23.5, 'yearly_fourier': 9, 'monthly_fourier': 6, 'weekly_fourier': 7, 'quaterly_fourier': 6, 'yearly_prior': 8.5, 'monthly_prior': 25.0, 'weekly_prior': 17.5, 'quaterly_prior': 1.0}. Best is trial 5 with value: 1.1077819030904053.\u001b[0m\n",
      "\u001b[32m[I 2021-05-17 14:07:15,722]\u001b[0m Trial 11 finished with value: 3.467932958511431 and parameters: {'changepoint_range': 0.9410000000000001, 'n_changepoints': 29, 'changepoint_prior_scale': 0.49, 'seasonality_prior_scale': 25.0, 'yearly_fourier': 9, 'monthly_fourier': 5, 'weekly_fourier': 7, 'quaterly_fourier': 6, 'yearly_prior': 8.0, 'monthly_prior': 25.0, 'weekly_prior': 16.0, 'quaterly_prior': 1.5}. Best is trial 5 with value: 1.1077819030904053.\u001b[0m\n",
      "\u001b[32m[I 2021-05-17 14:08:05,238]\u001b[0m Trial 12 finished with value: 15.639025372838534 and parameters: {'changepoint_range': 0.905, 'n_changepoints': 29, 'changepoint_prior_scale': 0.451, 'seasonality_prior_scale': 9.0, 'yearly_fourier': 11, 'monthly_fourier': 6, 'weekly_fourier': 7, 'quaterly_fourier': 6, 'yearly_prior': 7.5, 'monthly_prior': 22.0, 'weekly_prior': 17.0, 'quaterly_prior': 5.0}. Best is trial 5 with value: 1.1077819030904053.\u001b[0m\n",
      "\u001b[32m[I 2021-05-17 14:09:50,674]\u001b[0m Trial 13 finished with value: 2.112219273929096 and parameters: {'changepoint_range': 0.811, 'n_changepoints': 28, 'changepoint_prior_scale': 0.258, 'seasonality_prior_scale': 23.5, 'yearly_fourier': 8, 'monthly_fourier': 10, 'weekly_fourier': 6, 'quaterly_fourier': 7, 'yearly_prior': 1.0, 'monthly_prior': 20.5, 'weekly_prior': 20.0, 'quaterly_prior': 5.5}. Best is trial 5 with value: 1.1077819030904053.\u001b[0m\n"
     ]
    }
   ],
   "source": [
    "study = optuna.create_study(direction=\"minimize\", sampler=optuna.samplers.TPESampler(seed=42))\n",
    "study.optimize(objective, n_trials=15)"
   ]
  },
  {
   "cell_type": "code",
   "execution_count": null,
   "id": "481e95dd",
   "metadata": {},
   "outputs": [],
   "source": [
    "# fit_model\n",
    "m = Prophet(\n",
    "    changepoint_range=study.best_params[\"changepoint_prior_scale\"],\n",
    "    n_changepoints=study.best_params[\"n_changepoints\"],\n",
    "    seasonality_prior_scale=study.best_params[\"seasonality_prior_scale\"],\n",
    "    changepoint_prior_scale=study.best_params[\"changepoint_prior_scale\"],\n",
    "    yearly_seasonality=False,\n",
    "    weekly_seasonality=False,\n",
    "    daily_seasonality=False,\n",
    "    growth=\"logistic\",\n",
    "    seasonality_mode=\"additive\",\n",
    ")\n",
    "m.add_seasonality(\n",
    "    name=\"yearly\",\n",
    "    period=365.25,\n",
    "    fourier_order=study.best_params[\"yearly_fourier\"],\n",
    "    prior_scale=study.best_params[\"yearly_prior\"],\n",
    ")\n",
    "m.add_seasonality(\n",
    "    name=\"monthly\",\n",
    "    period=30.5,\n",
    "    fourier_order=study.best_params[\"monthly_fourier\"],\n",
    "    prior_scale=study.best_params[\"monthly_prior\"],\n",
    ")\n",
    "m.add_seasonality(\n",
    "    name=\"weekly\",\n",
    "    period=7,\n",
    "    fourier_order=study.best_params[\"weekly_fourier\"],\n",
    "    prior_scale=study.best_params[\"weekly_prior\"],\n",
    ")\n",
    "m.add_seasonality(\n",
    "    name=\"quaterly\",\n",
    "    period=365.25 / 4,\n",
    "    fourier_order=study.best_params[\"quaterly_fourier\"],\n",
    "    prior_scale=study.best_params[\"quaterly_prior\"],\n",
    ")\n",
    "\n",
    "train[\"cap\"] = cap\n",
    "train[\"floor\"] = floor\n",
    "m.fit(train)\n",
    "future = m.make_future_dataframe(periods=144, freq=\"d\")\n",
    "future[\"cap\"] = cap\n",
    "future[\"floor\"] = floor\n",
    "\n",
    "forecast = m.predict(future)\n",
    "forecast_plot = m.plot(forecast)"
   ]
  },
  {
   "cell_type": "code",
   "execution_count": null,
   "id": "4302f6b0",
   "metadata": {},
   "outputs": [],
   "source": [
    "# 시각화\n",
    "optuna.visualization.plot_optimization_history(study)"
   ]
  },
  {
   "cell_type": "code",
   "execution_count": null,
   "id": "1473c78d",
   "metadata": {},
   "outputs": [],
   "source": [
    "# 도움을 주는 파라미터\n",
    "optuna.visualization.plot_parallel_coordinate(study)"
   ]
  },
  {
   "cell_type": "code",
   "execution_count": null,
   "id": "5ba37253",
   "metadata": {},
   "outputs": [],
   "source": [
    "# 각 파라미터들의 상관관계\n",
    "optuna.visualization.plot_contour(\n",
    "    study,\n",
    "    params=[\n",
    "        \"changepoint_range\",\n",
    "        \"n_changepoints\",\n",
    "        \"changepoint_prior_scale\",\n",
    "        \"seasonality_prior_scale\",\n",
    "        \"yearly_fourier\",\n",
    "        \"monthly_fourier\",\n",
    "        \"weekly_fourier\",\n",
    "        \"quaterly_fourier\",\n",
    "        \"yearly_prior\",\n",
    "        \"monthly_prior\",\n",
    "        \"weekly_prior\",\n",
    "        \"quaterly_prior\",\n",
    "    ],\n",
    ")"
   ]
  },
  {
   "cell_type": "code",
   "execution_count": null,
   "id": "92256d71",
   "metadata": {},
   "outputs": [],
   "source": [
    "# 하이퍼파라미터 중요도\n",
    "optuna.visualization.plot_param_importances(study)"
   ]
  },
  {
   "cell_type": "code",
   "execution_count": null,
   "id": "358df015",
   "metadata": {},
   "outputs": [],
   "source": [
    "cap = np.max(df.y)\n",
    "floor = np.min(df.y)\n",
    "df['cap'] = cap\n",
    "df['floor'] = floor"
   ]
  },
  {
   "cell_type": "code",
   "execution_count": null,
   "id": "6f233d0f",
   "metadata": {
    "scrolled": false
   },
   "outputs": [],
   "source": [
    "# fit_model\n",
    "m = Prophet(\n",
    "    changepoint_range=study.best_params[\"changepoint_prior_scale\"],\n",
    "    n_changepoints=study.best_params[\"n_changepoints\"],\n",
    "    seasonality_prior_scale=study.best_params[\"seasonality_prior_scale\"],\n",
    "    changepoint_prior_scale=study.best_params[\"changepoint_prior_scale\"],\n",
    "    yearly_seasonality=False,\n",
    "    weekly_seasonality=False,\n",
    "    daily_seasonality=False,\n",
    "    growth=\"logistic\",\n",
    "    seasonality_mode=\"additive\",\n",
    ")\n",
    "m.add_seasonality(\n",
    "    name=\"yearly\",\n",
    "    period=365.25,\n",
    "    fourier_order=study.best_params[\"yearly_fourier\"],\n",
    "    prior_scale=study.best_params[\"yearly_prior\"],\n",
    ")\n",
    "m.add_seasonality(\n",
    "    name=\"monthly\",\n",
    "    period=30.5,\n",
    "    fourier_order=study.best_params[\"monthly_fourier\"],\n",
    "    prior_scale=study.best_params[\"monthly_prior\"],\n",
    ")\n",
    "m.add_seasonality(\n",
    "    name=\"weekly\",\n",
    "    period=7,\n",
    "    fourier_order=study.best_params[\"weekly_fourier\"],\n",
    "    prior_scale=study.best_params[\"weekly_prior\"],\n",
    ")\n",
    "m.add_seasonality(\n",
    "    name=\"quaterly\",\n",
    "    period=365.25 / 4,\n",
    "    fourier_order=study.best_params[\"quaterly_fourier\"],\n",
    "    prior_scale=study.best_params[\"quaterly_prior\"],\n",
    ")\n",
    "\n",
    "m.fit(df)\n",
    "\n",
    "future = m.make_future_dataframe(periods=144, freq=\"d\")\n",
    "future['cap'] = cap\n",
    "future['floor'] = floor\n",
    "forecast1 = m.predict(future)\n",
    "fig1 = m.plot(forecast1)"
   ]
  },
  {
   "cell_type": "code",
   "execution_count": null,
   "id": "2c5eefa5",
   "metadata": {
    "scrolled": false
   },
   "outputs": [],
   "source": [
    "m.plot_components(forecast1)"
   ]
  }
 ],
 "metadata": {
  "kernelspec": {
   "display_name": "Python 3",
   "language": "python",
   "name": "python3"
  },
  "language_info": {
   "codemirror_mode": {
    "name": "ipython",
    "version": 3
   },
   "file_extension": ".py",
   "mimetype": "text/x-python",
   "name": "python",
   "nbconvert_exporter": "python",
   "pygments_lexer": "ipython3",
   "version": "3.8.5"
  }
 },
 "nbformat": 4,
 "nbformat_minor": 5
}
