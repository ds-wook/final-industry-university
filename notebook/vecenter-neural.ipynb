{
 "cells": [
  {
   "cell_type": "code",
   "execution_count": 1,
   "id": "e8a6e261",
   "metadata": {},
   "outputs": [],
   "source": [
    "import numpy as np\n",
    "import pandas as pd\n",
    "import matplotlib.pyplot as plt\n",
    "import seaborn as sns\n",
    "import optuna\n",
    "from optuna import Trial\n",
    "from neuralprophet import NeuralProphet\n",
    "from sklearn.metrics import mean_squared_error\n",
    "import warnings\n",
    "warnings.filterwarnings(\"ignore\")"
   ]
  },
  {
   "cell_type": "code",
   "execution_count": 2,
   "id": "df87505c",
   "metadata": {},
   "outputs": [
    {
     "name": "stdout",
     "output_type": "stream",
     "text": [
      "(52151, 2)\n"
     ]
    },
    {
     "data": {
      "text/html": [
       "<div>\n",
       "<style scoped>\n",
       "    .dataframe tbody tr th:only-of-type {\n",
       "        vertical-align: middle;\n",
       "    }\n",
       "\n",
       "    .dataframe tbody tr th {\n",
       "        vertical-align: top;\n",
       "    }\n",
       "\n",
       "    .dataframe thead th {\n",
       "        text-align: right;\n",
       "    }\n",
       "</style>\n",
       "<table border=\"1\" class=\"dataframe\">\n",
       "  <thead>\n",
       "    <tr style=\"text-align: right;\">\n",
       "      <th></th>\n",
       "      <th>date</th>\n",
       "      <th>value</th>\n",
       "    </tr>\n",
       "  </thead>\n",
       "  <tbody>\n",
       "    <tr>\n",
       "      <th>0</th>\n",
       "      <td>2020-02-19 09:00:00</td>\n",
       "      <td>10</td>\n",
       "    </tr>\n",
       "    <tr>\n",
       "      <th>1</th>\n",
       "      <td>2020-02-19 09:10:00</td>\n",
       "      <td>11</td>\n",
       "    </tr>\n",
       "    <tr>\n",
       "      <th>2</th>\n",
       "      <td>2020-02-19 09:20:00</td>\n",
       "      <td>11</td>\n",
       "    </tr>\n",
       "    <tr>\n",
       "      <th>3</th>\n",
       "      <td>2020-02-19 09:30:00</td>\n",
       "      <td>11</td>\n",
       "    </tr>\n",
       "    <tr>\n",
       "      <th>4</th>\n",
       "      <td>2020-02-19 09:40:00</td>\n",
       "      <td>11</td>\n",
       "    </tr>\n",
       "  </tbody>\n",
       "</table>\n",
       "</div>"
      ],
      "text/plain": [
       "                 date  value\n",
       "0 2020-02-19 09:00:00     10\n",
       "1 2020-02-19 09:10:00     11\n",
       "2 2020-02-19 09:20:00     11\n",
       "3 2020-02-19 09:30:00     11\n",
       "4 2020-02-19 09:40:00     11"
      ]
     },
     "execution_count": 2,
     "metadata": {},
     "output_type": "execute_result"
    }
   ],
   "source": [
    "df = pd.read_csv(\n",
    "    \"../input/10min/vcenter.csv\", usecols=[\"date\", \"value\"], parse_dates=[\"date\"]\n",
    ")\n",
    "print(df.shape)\n",
    "df.head()"
   ]
  },
  {
   "cell_type": "code",
   "execution_count": 3,
   "id": "a754c460",
   "metadata": {
    "scrolled": true
   },
   "outputs": [
    {
     "data": {
      "text/html": [
       "<div>\n",
       "<style scoped>\n",
       "    .dataframe tbody tr th:only-of-type {\n",
       "        vertical-align: middle;\n",
       "    }\n",
       "\n",
       "    .dataframe tbody tr th {\n",
       "        vertical-align: top;\n",
       "    }\n",
       "\n",
       "    .dataframe thead th {\n",
       "        text-align: right;\n",
       "    }\n",
       "</style>\n",
       "<table border=\"1\" class=\"dataframe\">\n",
       "  <thead>\n",
       "    <tr style=\"text-align: right;\">\n",
       "      <th></th>\n",
       "      <th>ds</th>\n",
       "      <th>y</th>\n",
       "    </tr>\n",
       "  </thead>\n",
       "  <tbody>\n",
       "    <tr>\n",
       "      <th>52146</th>\n",
       "      <td>2021-02-17 08:10:00</td>\n",
       "      <td>29</td>\n",
       "    </tr>\n",
       "    <tr>\n",
       "      <th>52147</th>\n",
       "      <td>2021-02-17 08:20:00</td>\n",
       "      <td>28</td>\n",
       "    </tr>\n",
       "    <tr>\n",
       "      <th>52148</th>\n",
       "      <td>2021-02-17 08:30:00</td>\n",
       "      <td>28</td>\n",
       "    </tr>\n",
       "    <tr>\n",
       "      <th>52149</th>\n",
       "      <td>2021-02-17 08:40:00</td>\n",
       "      <td>29</td>\n",
       "    </tr>\n",
       "    <tr>\n",
       "      <th>52150</th>\n",
       "      <td>2021-02-17 08:50:00</td>\n",
       "      <td>29</td>\n",
       "    </tr>\n",
       "  </tbody>\n",
       "</table>\n",
       "</div>"
      ],
      "text/plain": [
       "                       ds   y\n",
       "52146 2021-02-17 08:10:00  29\n",
       "52147 2021-02-17 08:20:00  28\n",
       "52148 2021-02-17 08:30:00  28\n",
       "52149 2021-02-17 08:40:00  29\n",
       "52150 2021-02-17 08:50:00  29"
      ]
     },
     "execution_count": 3,
     "metadata": {},
     "output_type": "execute_result"
    }
   ],
   "source": [
    "df.rename(columns={\"date\": \"ds\", \"value\": \"y\"}, inplace=True)\n",
    "df[\"ds\"] = pd.to_datetime(df[\"ds\"])\n",
    "df.tail()"
   ]
  },
  {
   "cell_type": "code",
   "execution_count": 5,
   "id": "32950c9f",
   "metadata": {},
   "outputs": [],
   "source": [
    "train = df.iloc[:int(df.shape[0] * 0.8)]\n",
    "valid = df.iloc[int(df.shape[0] * 0.2):]\n",
    "valid[\"days\"] = valid[\"ds\"].dt.date\n",
    "valid = valid.groupby(\"days\")[\"y\"].agg(\"mean\")"
   ]
  },
  {
   "cell_type": "code",
   "execution_count": 6,
   "id": "03c22ac7",
   "metadata": {},
   "outputs": [],
   "source": [
    "def objective(trial: Trial) -> float:\n",
    "    params = {\n",
    "        \"epochs\": trial.suggest_categorical(\"epochs\", [50, 100, 200, 300, 400, 500]),\n",
    "        \"batch_size\": 64,\n",
    "        \"num_hidden_layers\": trial.suggest_int(\"num_hidden_layers\", 0, 5),\n",
    "        \"learning_rate\": trial.suggest_float(\"learning_rate\", 1e-3, 0.1),\n",
    "        \"changepoints_range\": trial.suggest_discrete_uniform(\n",
    "            \"changepoints_range\", 0.8, 0.95, 0.001\n",
    "        ),\n",
    "        \"n_changepoints\": trial.suggest_int(\"n_changepoints\", 20, 35),\n",
    "        \"seasonality_mode\": \"additive\",\n",
    "        \"yearly_seasonality\": False,\n",
    "        \"weekly_seasonality\": True,\n",
    "        \"daily_seasonality\": True,\n",
    "        \"loss_func\": \"MSE\",\n",
    "    }\n",
    "    # fit_model\n",
    "    m = NeuralProphet(**params)\n",
    "    m.fit(train, freq=\"1D\")\n",
    "    future = m.make_future_dataframe(train, periods=len(valid), n_historic_predictions=True)\n",
    "\n",
    "    forecast = m.predict(future)\n",
    "    valid_forecast = forecast[forecast.y.isna()]\n",
    "    val_rmse = mean_squared_error(valid_forecast.yhat1, valid, squared=False)\n",
    "\n",
    "    return val_rmse"
   ]
  },
  {
   "cell_type": "code",
   "execution_count": null,
   "id": "dd0b9810",
   "metadata": {
    "scrolled": false
   },
   "outputs": [
    {
     "name": "stderr",
     "output_type": "stream",
     "text": [
      "\u001b[32m[I 2021-05-15 17:57:17,242]\u001b[0m A new study created in memory with name: no-name-f580de65-641b-4924-af0d-890278004601\u001b[0m\n",
      "WARNING: nprophet - fit: Parts of code may break if using other than daily data.\n",
      "Epoch[100/100]: 100%|██████████| 100/100 [01:30<00:00,  1.11it/s, MSELoss=0.0236, MAE=1.11, RegLoss=0]\n",
      "\u001b[32m[I 2021-05-15 17:58:48,313]\u001b[0m Trial 0 finished with value: 16.30156149070461 and parameters: {'epochs': 100, 'num_hidden_layers': 0, 'learning_rate': 0.08675143843171859, 'changepoints_range': 0.89, 'n_changepoints': 31}. Best is trial 0 with value: 16.30156149070461.\u001b[0m\n",
      "WARNING: nprophet - fit: Parts of code may break if using other than daily data.\n",
      "Epoch[100/100]: 100%|██████████| 100/100 [01:29<00:00,  1.11it/s, MSELoss=0.0261, MAE=1.2, RegLoss=0]\n",
      "\u001b[32m[I 2021-05-15 18:00:18,758]\u001b[0m Trial 1 finished with value: 16.33639785119811 and parameters: {'epochs': 100, 'num_hidden_layers': 1, 'learning_rate': 0.05295088673159155, 'changepoints_range': 0.865, 'n_changepoints': 24}. Best is trial 0 with value: 16.30156149070461.\u001b[0m\n",
      "WARNING: nprophet - fit: Parts of code may break if using other than daily data.\n",
      "Epoch[500/500]: 100%|██████████| 500/500 [07:30<00:00,  1.11it/s, MSELoss=0.0253, MAE=1.13, RegLoss=0]\n",
      "\u001b[32m[I 2021-05-15 18:07:50,091]\u001b[0m Trial 2 finished with value: 16.453898360098258 and parameters: {'epochs': 500, 'num_hidden_layers': 1, 'learning_rate': 0.051909209402947555, 'changepoints_range': 0.889, 'n_changepoints': 20}. Best is trial 0 with value: 16.30156149070461.\u001b[0m\n",
      "WARNING: nprophet - fit: Parts of code may break if using other than daily data.\n",
      "Epoch[400/400]: 100%|██████████| 400/400 [05:57<00:00,  1.12it/s, MSELoss=0.0246, MAE=1.12, RegLoss=0]\n",
      "\u001b[32m[I 2021-05-15 18:13:48,102]\u001b[0m Trial 3 finished with value: 15.960765188996715 and parameters: {'epochs': 400, 'num_hidden_layers': 1, 'learning_rate': 0.010669539286632005, 'changepoints_range': 0.903, 'n_changepoints': 27}. Best is trial 3 with value: 15.960765188996715.\u001b[0m\n",
      "WARNING: nprophet - fit: Parts of code may break if using other than daily data.\n",
      "Epoch[300/300]: 100%|██████████| 300/300 [04:29<00:00,  1.11it/s, MSELoss=0.0222, MAE=1.12, RegLoss=0]\n",
      "\u001b[32m[I 2021-05-15 18:18:18,020]\u001b[0m Trial 4 finished with value: 16.358828230747342 and parameters: {'epochs': 300, 'num_hidden_layers': 1, 'learning_rate': 0.052486734096603274, 'changepoints_range': 0.882, 'n_changepoints': 22}. Best is trial 3 with value: 15.960765188996715.\u001b[0m\n",
      "WARNING: nprophet - fit: Parts of code may break if using other than daily data.\n",
      "Epoch[50/50]: 100%|██████████| 50/50 [00:45<00:00,  1.10it/s, MSELoss=0.021, MAE=1.03, RegLoss=0] \n",
      "\u001b[32m[I 2021-05-15 18:19:04,127]\u001b[0m Trial 5 finished with value: 15.311619228507263 and parameters: {'epochs': 50, 'num_hidden_layers': 0, 'learning_rate': 0.020402303379495376, 'changepoints_range': 0.806, 'n_changepoints': 25}. Best is trial 5 with value: 15.311619228507263.\u001b[0m\n",
      "WARNING: nprophet - fit: Parts of code may break if using other than daily data.\n",
      "Epoch[200/200]: 100%|██████████| 200/200 [02:59<00:00,  1.11it/s, MSELoss=0.022, MAE=1.04, RegLoss=0] \n",
      "\u001b[32m[I 2021-05-15 18:22:04,310]\u001b[0m Trial 6 finished with value: 15.918848391232054 and parameters: {'epochs': 200, 'num_hidden_layers': 0, 'learning_rate': 0.08041750109464993, 'changepoints_range': 0.811, 'n_changepoints': 35}. Best is trial 5 with value: 15.311619228507263.\u001b[0m\n",
      "WARNING: nprophet - fit: Parts of code may break if using other than daily data.\n",
      "Epoch[300/300]: 100%|██████████| 300/300 [05:55<00:00,  1.18s/it, MSELoss=0.0263, MAE=1.23, RegLoss=0]\n",
      "\u001b[32m[I 2021-05-15 18:28:00,282]\u001b[0m Trial 7 finished with value: 16.631012594774987 and parameters: {'epochs': 300, 'num_hidden_layers': 4, 'learning_rate': 0.008330420521674946, 'changepoints_range': 0.8540000000000001, 'n_changepoints': 21}. Best is trial 5 with value: 15.311619228507263.\u001b[0m\n",
      "WARNING: nprophet - fit: Parts of code may break if using other than daily data.\n",
      "Epoch[50/50]: 100%|██████████| 50/50 [01:03<00:00,  1.27s/it, MSELoss=0.0296, MAE=1.27, RegLoss=0]\n",
      "\u001b[32m[I 2021-05-15 18:29:04,878]\u001b[0m Trial 8 finished with value: 15.169519739014845 and parameters: {'epochs': 50, 'num_hidden_layers': 4, 'learning_rate': 0.0641181896641661, 'changepoints_range': 0.933, 'n_changepoints': 27}. Best is trial 8 with value: 15.169519739014845.\u001b[0m\n",
      "WARNING: nprophet - fit: Parts of code may break if using other than daily data.\n",
      "Epoch[400/400]: 100%|██████████| 400/400 [08:13<00:00,  1.23s/it, MSELoss=0.0249, MAE=1.2, RegLoss=0] \n",
      "\u001b[32m[I 2021-05-15 18:37:19,578]\u001b[0m Trial 9 finished with value: 14.284093776822472 and parameters: {'epochs': 400, 'num_hidden_layers': 3, 'learning_rate': 0.04332656081749642, 'changepoints_range': 0.803, 'n_changepoints': 21}. Best is trial 9 with value: 14.284093776822472.\u001b[0m\n",
      "WARNING: nprophet - fit: Parts of code may break if using other than daily data.\n",
      "Epoch[400/400]: 100%|██████████| 400/400 [08:01<00:00,  1.20s/it, MSELoss=0.0236, MAE=1.08, RegLoss=0]\n",
      "\u001b[32m[I 2021-05-15 18:45:22,143]\u001b[0m Trial 10 finished with value: 16.364464444876592 and parameters: {'epochs': 400, 'num_hidden_layers': 3, 'learning_rate': 0.033384714745660085, 'changepoints_range': 0.8340000000000001, 'n_changepoints': 31}. Best is trial 9 with value: 14.284093776822472.\u001b[0m\n",
      "WARNING: nprophet - fit: Parts of code may break if using other than daily data.\n",
      "Epoch[50/50]: 100%|██████████| 50/50 [01:00<00:00,  1.20s/it, MSELoss=0.0239, MAE=1.12, RegLoss=0]\n",
      "\u001b[32m[I 2021-05-15 18:46:23,035]\u001b[0m Trial 11 finished with value: 17.03391565624932 and parameters: {'epochs': 50, 'num_hidden_layers': 5, 'learning_rate': 0.06943802393252761, 'changepoints_range': 0.95, 'n_changepoints': 30}. Best is trial 9 with value: 14.284093776822472.\u001b[0m\n",
      "WARNING: nprophet - fit: Parts of code may break if using other than daily data.\n",
      "Epoch[50/50]: 100%|██████████| 50/50 [00:58<00:00,  1.18s/it, MSELoss=0.0251, MAE=1.13, RegLoss=0]\n",
      "\u001b[32m[I 2021-05-15 18:47:23,257]\u001b[0m Trial 12 finished with value: 16.385522027008737 and parameters: {'epochs': 50, 'num_hidden_layers': 3, 'learning_rate': 0.034610266826846814, 'changepoints_range': 0.937, 'n_changepoints': 34}. Best is trial 9 with value: 14.284093776822472.\u001b[0m\n",
      "WARNING: nprophet - fit: Parts of code may break if using other than daily data.\n",
      "Epoch[400/400]: 100%|██████████| 400/400 [08:01<00:00,  1.20s/it, MSELoss=0.027, MAE=1.2, RegLoss=0]  \n",
      "\u001b[32m[I 2021-05-15 18:55:25,416]\u001b[0m Trial 13 finished with value: 15.025581165687338 and parameters: {'epochs': 400, 'num_hidden_layers': 5, 'learning_rate': 0.07043360721950016, 'changepoints_range': 0.925, 'n_changepoints': 28}. Best is trial 9 with value: 14.284093776822472.\u001b[0m\n",
      "WARNING: nprophet - fit: Parts of code may break if using other than daily data.\n",
      "Epoch[400/400]: 100%|██████████| 400/400 [06:06<00:00,  1.09it/s, MSELoss=0.0224, MAE=1.08, RegLoss=0]\n",
      "\u001b[32m[I 2021-05-15 19:01:32,121]\u001b[0m Trial 14 finished with value: 14.992238678942527 and parameters: {'epochs': 400, 'num_hidden_layers': 5, 'learning_rate': 0.03486513212915371, 'changepoints_range': 0.921, 'n_changepoints': 29}. Best is trial 9 with value: 14.284093776822472.\u001b[0m\n",
      "WARNING: nprophet - fit: Parts of code may break if using other than daily data.\n",
      "Epoch[400/400]: 100%|██████████| 400/400 [05:52<00:00,  1.13it/s, MSELoss=0.0177, MAE=0.945, RegLoss=0]\n",
      "\u001b[32m[I 2021-05-15 19:07:25,366]\u001b[0m Trial 15 finished with value: 16.369491791943016 and parameters: {'epochs': 400, 'num_hidden_layers': 4, 'learning_rate': 0.03396732682343272, 'changepoints_range': 0.8340000000000001, 'n_changepoints': 33}. Best is trial 9 with value: 14.284093776822472.\u001b[0m\n",
      "WARNING: nprophet - fit: Parts of code may break if using other than daily data.\n",
      "Epoch[386/400]:  96%|█████████▋| 386/400 [05:43<00:12,  1.11it/s, MSELoss=0.0257, MAE=1.21, RegLoss=0]"
     ]
    }
   ],
   "source": [
    "study = optuna.create_study(direction=\"minimize\", sampler=optuna.samplers.TPESampler(seed=42))\n",
    "study.optimize(objective, n_trials=20)"
   ]
  },
  {
   "cell_type": "code",
   "execution_count": null,
   "id": "a6a34213",
   "metadata": {},
   "outputs": [],
   "source": [
    "prophet_params = study.best_params\n",
    "prophet_params[\"batch_size\"] = 64\n",
    "prophet_params[\"seasonality_mode\"] = \"additive\"\n",
    "prophet_params[\"loss_func\"] = \"MSE\"\n",
    "prophet_params[\"weekly_seasonality\"] = True\n",
    "prophet_params[\"daily_seasonality\"] = True\n",
    "prophet_params[\"yearly_seasonality\"] = False"
   ]
  },
  {
   "cell_type": "code",
   "execution_count": null,
   "id": "a599a81f",
   "metadata": {},
   "outputs": [],
   "source": [
    "# model = NeuralProphet() if you're using default variables below.\n",
    "model = NeuralProphet(**prophet_params)\n",
    "metrics = model.fit(train, freq=\"1D\")\n",
    "future = model.make_future_dataframe(train, periods=len(valid), n_historic_predictions=True)\n",
    "forecast = model.predict(future)"
   ]
  },
  {
   "cell_type": "code",
   "execution_count": null,
   "id": "6aea6b1a",
   "metadata": {},
   "outputs": [],
   "source": [
    "fig, ax = plt.subplots(figsize=(14, 10))\n",
    "model.plot(forecast, ax=ax)\n",
    "plt.show()"
   ]
  },
  {
   "cell_type": "code",
   "execution_count": null,
   "id": "d73e9c8c",
   "metadata": {},
   "outputs": [],
   "source": [
    "# model = NeuralProphet() if you're using default variables below.\n",
    "model = NeuralProphet(**prophet_params)\n",
    "metrics = model.fit(df, freq=\"1D\")\n",
    "future = model.make_future_dataframe(df, periods=144, n_historic_predictions=True)\n",
    "forecast = model.predict(future)"
   ]
  },
  {
   "cell_type": "code",
   "execution_count": null,
   "id": "e89fb660",
   "metadata": {},
   "outputs": [],
   "source": [
    "fig, ax = plt.subplots(figsize=(14, 10))\n",
    "model.plot(forecast, ax=ax)\n",
    "plt.show()"
   ]
  }
 ],
 "metadata": {
  "kernelspec": {
   "display_name": "Python 3",
   "language": "python",
   "name": "python3"
  },
  "language_info": {
   "codemirror_mode": {
    "name": "ipython",
    "version": 3
   },
   "file_extension": ".py",
   "mimetype": "text/x-python",
   "name": "python",
   "nbconvert_exporter": "python",
   "pygments_lexer": "ipython3",
   "version": "3.8.5"
  }
 },
 "nbformat": 4,
 "nbformat_minor": 5
}
